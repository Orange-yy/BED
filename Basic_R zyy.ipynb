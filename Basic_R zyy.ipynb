{
 "cells": [
  {
   "cell_type": "markdown",
   "metadata": {},
   "source": [
    "# Introduction into R coding\n",
    " \n",
    "\n",
    "This notebook is to get used to the R environment and manage to carry out basic tasks such as reading files and simple plots.\n",
    "\n"
   ]
  },
  {
   "cell_type": "markdown",
   "metadata": {},
   "source": [
    "## Installation of libraries and necessary software\n",
    "Install the necessary libraries (only needed once) by executing (shift-enter) the following cell:\n"
   ]
  },
  {
   "cell_type": "code",
   "execution_count": 1,
   "metadata": {},
   "outputs": [
    {
     "name": "stdout",
     "output_type": "stream",
     "text": [
      "\n",
      "The downloaded binary packages are in\n",
      "\t/var/folders/77/f9sm93v10k3_wzqf0868lmvw0000gn/T//RtmpHSXJhz/downloaded_packages\n"
     ]
    }
   ],
   "source": [
    "install.packages(\"MASS\", repos='http://cran.us.r-project.org')\n"
   ]
  },
  {
   "cell_type": "markdown",
   "metadata": {},
   "source": [
    "## Loading data and libraries\n",
    "This requires that the installation above have been finished without error"
   ]
  },
  {
   "cell_type": "code",
   "execution_count": null,
   "metadata": {},
   "outputs": [],
   "source": [
    "library(\"MASS\")"
   ]
  },
  {
   "cell_type": "markdown",
   "metadata": {},
   "source": [
    "### Exercise 1\n",
    "Answer the following questions about the R framework\n",
    "\n"
   ]
  },
  {
   "cell_type": "markdown",
   "metadata": {},
   "source": [
    "#### Add your answers here\n",
    "(double-click here to edit the cell)\n",
    "\n",
    "##### Question I:  <u>What is the difference between the commands ```install.packages``` and ```library```?</u>\n",
    "\n",
    "_install.packages is to install a package/library into our hard disk.   \n",
    "library is to import it into memory to use_\n",
    "\n",
    "##### Question II:  <u>What is an object in R and what can it contain?</u>\n",
    "\n",
    "_Object is an variable in the environment that contains some kind of data. Could be a number(numeric) or a string(character), matrix, list, boolean_\n",
    "\n",
    "##### Question III: <u>A ```data.frame``` is one of the most important R objects. Explain how rows, columns, rownames and colnames corresponds to what you see on an Excel sheet:</u>\n",
    "\n",
    "_rows:row in Excel sheet, for example different patients  \n",
    "columns: attributes or samples, columns in Excel sheet.  \n",
    "colnames, rownames: names of the rows and columns, to provide access and more information_\n",
    "\n",
    "##### Question Iv:  <u>What is the difference between an object and a function?</u>\n",
    "\n",
    "_An object is a collection or a single item of data inclouding the code of function.   \n",
    "A function is a collection of commands and data._\n",
    "\n"
   ]
  },
  {
   "cell_type": "code",
   "execution_count": 10,
   "metadata": {},
   "outputs": [
    {
     "data": {
      "text/html": [
       "<table class=\"dataframe\">\n",
       "<caption>A data.frame: 300 × 8</caption>\n",
       "<thead>\n",
       "\t<tr><th></th><th scope=col>npreg</th><th scope=col>glu</th><th scope=col>bp</th><th scope=col>skin</th><th scope=col>bmi</th><th scope=col>ped</th><th scope=col>age</th><th scope=col>type</th></tr>\n",
       "\t<tr><th></th><th scope=col>&lt;int&gt;</th><th scope=col>&lt;int&gt;</th><th scope=col>&lt;int&gt;</th><th scope=col>&lt;int&gt;</th><th scope=col>&lt;dbl&gt;</th><th scope=col>&lt;dbl&gt;</th><th scope=col>&lt;int&gt;</th><th scope=col>&lt;fct&gt;</th></tr>\n",
       "</thead>\n",
       "<tbody>\n",
       "\t<tr><th scope=row>1</th><td> 5</td><td> 86</td><td>68</td><td>28</td><td>30.2</td><td>0.364</td><td>24</td><td>No </td></tr>\n",
       "\t<tr><th scope=row>2</th><td> 7</td><td>195</td><td>70</td><td>33</td><td>25.1</td><td>0.163</td><td>55</td><td>Yes</td></tr>\n",
       "\t<tr><th scope=row>3</th><td> 5</td><td> 77</td><td>82</td><td>41</td><td>35.8</td><td>0.156</td><td>35</td><td>No </td></tr>\n",
       "\t<tr><th scope=row>4</th><td> 0</td><td>165</td><td>76</td><td>43</td><td>47.9</td><td>0.259</td><td>26</td><td>No </td></tr>\n",
       "\t<tr><th scope=row>5</th><td> 0</td><td>107</td><td>60</td><td>25</td><td>26.4</td><td>0.133</td><td>23</td><td>No </td></tr>\n",
       "\t<tr><th scope=row>6</th><td> 5</td><td> 97</td><td>76</td><td>27</td><td>35.6</td><td>0.378</td><td>52</td><td>Yes</td></tr>\n",
       "\t<tr><th scope=row>7</th><td> 3</td><td> 83</td><td>58</td><td>31</td><td>34.3</td><td>0.336</td><td>25</td><td>No </td></tr>\n",
       "\t<tr><th scope=row>8</th><td> 1</td><td>193</td><td>50</td><td>16</td><td>25.9</td><td>0.655</td><td>24</td><td>No </td></tr>\n",
       "\t<tr><th scope=row>9</th><td> 3</td><td>142</td><td>80</td><td>15</td><td>32.4</td><td>0.200</td><td>63</td><td>No </td></tr>\n",
       "\t<tr><th scope=row>10</th><td> 2</td><td>128</td><td>78</td><td>37</td><td>43.3</td><td>1.224</td><td>31</td><td>Yes</td></tr>\n",
       "\t<tr><th scope=row>11</th><td> 0</td><td>137</td><td>40</td><td>35</td><td>43.1</td><td>2.288</td><td>33</td><td>Yes</td></tr>\n",
       "\t<tr><th scope=row>12</th><td> 9</td><td>154</td><td>78</td><td>30</td><td>30.9</td><td>0.164</td><td>45</td><td>No </td></tr>\n",
       "\t<tr><th scope=row>13</th><td> 1</td><td>189</td><td>60</td><td>23</td><td>30.1</td><td>0.398</td><td>59</td><td>Yes</td></tr>\n",
       "\t<tr><th scope=row>14</th><td>12</td><td> 92</td><td>62</td><td> 7</td><td>27.6</td><td>0.926</td><td>44</td><td>Yes</td></tr>\n",
       "\t<tr><th scope=row>15</th><td> 1</td><td> 86</td><td>66</td><td>52</td><td>41.3</td><td>0.917</td><td>29</td><td>No </td></tr>\n",
       "\t<tr><th scope=row>16</th><td> 4</td><td> 99</td><td>76</td><td>15</td><td>23.2</td><td>0.223</td><td>21</td><td>No </td></tr>\n",
       "\t<tr><th scope=row>17</th><td> 1</td><td>109</td><td>60</td><td> 8</td><td>25.4</td><td>0.947</td><td>21</td><td>No </td></tr>\n",
       "\t<tr><th scope=row>18</th><td>11</td><td>143</td><td>94</td><td>33</td><td>36.6</td><td>0.254</td><td>51</td><td>Yes</td></tr>\n",
       "\t<tr><th scope=row>19</th><td> 1</td><td>149</td><td>68</td><td>29</td><td>29.3</td><td>0.349</td><td>42</td><td>Yes</td></tr>\n",
       "\t<tr><th scope=row>20</th><td> 0</td><td>139</td><td>62</td><td>17</td><td>22.1</td><td>0.207</td><td>21</td><td>No </td></tr>\n",
       "\t<tr><th scope=row>21</th><td> 2</td><td> 99</td><td>70</td><td>16</td><td>20.4</td><td>0.235</td><td>27</td><td>No </td></tr>\n",
       "\t<tr><th scope=row>22</th><td> 1</td><td>100</td><td>66</td><td>29</td><td>32.0</td><td>0.444</td><td>42</td><td>No </td></tr>\n",
       "\t<tr><th scope=row>23</th><td> 4</td><td> 83</td><td>86</td><td>19</td><td>29.3</td><td>0.317</td><td>34</td><td>No </td></tr>\n",
       "\t<tr><th scope=row>24</th><td> 0</td><td>101</td><td>64</td><td>17</td><td>21.0</td><td>0.252</td><td>21</td><td>No </td></tr>\n",
       "\t<tr><th scope=row>25</th><td> 1</td><td> 87</td><td>68</td><td>34</td><td>37.6</td><td>0.401</td><td>24</td><td>No </td></tr>\n",
       "\t<tr><th scope=row>26</th><td> 9</td><td>164</td><td>84</td><td>21</td><td>30.8</td><td>0.831</td><td>32</td><td>Yes</td></tr>\n",
       "\t<tr><th scope=row>27</th><td> 1</td><td> 99</td><td>58</td><td>10</td><td>25.4</td><td>0.551</td><td>21</td><td>No </td></tr>\n",
       "\t<tr><th scope=row>28</th><td> 0</td><td>140</td><td>65</td><td>26</td><td>42.6</td><td>0.431</td><td>24</td><td>Yes</td></tr>\n",
       "\t<tr><th scope=row>29</th><td> 5</td><td>108</td><td>72</td><td>43</td><td>36.1</td><td>0.263</td><td>33</td><td>No </td></tr>\n",
       "\t<tr><th scope=row>30</th><td> 2</td><td>110</td><td>74</td><td>29</td><td>32.4</td><td>0.698</td><td>27</td><td>No </td></tr>\n",
       "\t<tr><th scope=row>⋮</th><td>⋮</td><td>⋮</td><td>⋮</td><td>⋮</td><td>⋮</td><td>⋮</td><td>⋮</td><td>⋮</td></tr>\n",
       "\t<tr><th scope=row>271</th><td> 2</td><td> 87</td><td>NA</td><td>23</td><td>28.9</td><td>0.773</td><td>25</td><td>No </td></tr>\n",
       "\t<tr><th scope=row>272</th><td>10</td><td>108</td><td>66</td><td>NA</td><td>32.4</td><td>0.272</td><td>42</td><td>Yes</td></tr>\n",
       "\t<tr><th scope=row>273</th><td>10</td><td>139</td><td>80</td><td>NA</td><td>27.1</td><td>1.441</td><td>57</td><td>No </td></tr>\n",
       "\t<tr><th scope=row>274</th><td> 4</td><td>110</td><td>92</td><td>NA</td><td>37.6</td><td>0.191</td><td>30</td><td>No </td></tr>\n",
       "\t<tr><th scope=row>275</th><td> 4</td><td>114</td><td>64</td><td>NA</td><td>28.9</td><td>0.126</td><td>24</td><td>No </td></tr>\n",
       "\t<tr><th scope=row>276</th><td> 0</td><td>101</td><td>62</td><td>NA</td><td>21.9</td><td>0.336</td><td>25</td><td>No </td></tr>\n",
       "\t<tr><th scope=row>277</th><td> 2</td><td> 91</td><td>62</td><td>NA</td><td>27.3</td><td>0.525</td><td>22</td><td>No </td></tr>\n",
       "\t<tr><th scope=row>278</th><td> 8</td><td>133</td><td>72</td><td>NA</td><td>32.9</td><td>0.270</td><td>39</td><td>Yes</td></tr>\n",
       "\t<tr><th scope=row>279</th><td> 1</td><td>111</td><td>94</td><td>NA</td><td>32.8</td><td>0.265</td><td>45</td><td>No </td></tr>\n",
       "\t<tr><th scope=row>280</th><td> 5</td><td>147</td><td>75</td><td>NA</td><td>29.9</td><td>0.434</td><td>28</td><td>No </td></tr>\n",
       "\t<tr><th scope=row>281</th><td> 4</td><td> 92</td><td>80</td><td>NA</td><td>42.2</td><td>0.237</td><td>29</td><td>No </td></tr>\n",
       "\t<tr><th scope=row>282</th><td> 2</td><td> 90</td><td>60</td><td>NA</td><td>23.5</td><td>0.191</td><td>25</td><td>No </td></tr>\n",
       "\t<tr><th scope=row>283</th><td> 7</td><td>114</td><td>64</td><td>NA</td><td>27.4</td><td>0.732</td><td>34</td><td>Yes</td></tr>\n",
       "\t<tr><th scope=row>284</th><td> 7</td><td>125</td><td>86</td><td>NA</td><td>37.6</td><td>0.304</td><td>51</td><td>No </td></tr>\n",
       "\t<tr><th scope=row>285</th><td> 2</td><td>119</td><td>NA</td><td>NA</td><td>19.6</td><td>0.832</td><td>72</td><td>No </td></tr>\n",
       "\t<tr><th scope=row>286</th><td> 5</td><td>115</td><td>76</td><td>NA</td><td>31.2</td><td>0.343</td><td>44</td><td>Yes</td></tr>\n",
       "\t<tr><th scope=row>287</th><td> 0</td><td>141</td><td>NA</td><td>NA</td><td>42.4</td><td>0.205</td><td>29</td><td>Yes</td></tr>\n",
       "\t<tr><th scope=row>288</th><td> 0</td><td>167</td><td>NA</td><td>NA</td><td>32.3</td><td>0.839</td><td>30</td><td>Yes</td></tr>\n",
       "\t<tr><th scope=row>289</th><td> 4</td><td> 90</td><td>NA</td><td>NA</td><td>28.0</td><td>0.610</td><td>31</td><td>No </td></tr>\n",
       "\t<tr><th scope=row>290</th><td> 5</td><td>132</td><td>80</td><td>NA</td><td>26.8</td><td>0.186</td><td>69</td><td>No </td></tr>\n",
       "\t<tr><th scope=row>291</th><td> 0</td><td>125</td><td>96</td><td>NA</td><td>22.5</td><td>0.262</td><td>21</td><td>No </td></tr>\n",
       "\t<tr><th scope=row>292</th><td> 3</td><td>150</td><td>76</td><td>NA</td><td>21.0</td><td>0.207</td><td>37</td><td>No </td></tr>\n",
       "\t<tr><th scope=row>293</th><td> 4</td><td> 95</td><td>64</td><td>NA</td><td>32.0</td><td>0.161</td><td>31</td><td>Yes</td></tr>\n",
       "\t<tr><th scope=row>294</th><td> 4</td><td>136</td><td>70</td><td>NA</td><td>31.2</td><td>1.182</td><td>22</td><td>Yes</td></tr>\n",
       "\t<tr><th scope=row>295</th><td> 8</td><td>110</td><td>76</td><td>NA</td><td>27.8</td><td>0.237</td><td>58</td><td>No </td></tr>\n",
       "\t<tr><th scope=row>296</th><td> 0</td><td>125</td><td>68</td><td>NA</td><td>24.7</td><td>0.206</td><td>21</td><td>No </td></tr>\n",
       "\t<tr><th scope=row>297</th><td> 6</td><td> 92</td><td>92</td><td>NA</td><td>19.9</td><td>0.188</td><td>28</td><td>No </td></tr>\n",
       "\t<tr><th scope=row>298</th><td> 3</td><td>141</td><td>NA</td><td>NA</td><td>30.0</td><td>0.761</td><td>27</td><td>Yes</td></tr>\n",
       "\t<tr><th scope=row>299</th><td> 0</td><td> 73</td><td>NA</td><td>NA</td><td>21.1</td><td>0.342</td><td>25</td><td>No </td></tr>\n",
       "\t<tr><th scope=row>300</th><td> 2</td><td>129</td><td>84</td><td>NA</td><td>28.0</td><td>0.284</td><td>27</td><td>No </td></tr>\n",
       "</tbody>\n",
       "</table>\n"
      ],
      "text/latex": [
       "A data.frame: 300 × 8\n",
       "\\begin{tabular}{r|llllllll}\n",
       "  & npreg & glu & bp & skin & bmi & ped & age & type\\\\\n",
       "  & <int> & <int> & <int> & <int> & <dbl> & <dbl> & <int> & <fct>\\\\\n",
       "\\hline\n",
       "\t1 &  5 &  86 & 68 & 28 & 30.2 & 0.364 & 24 & No \\\\\n",
       "\t2 &  7 & 195 & 70 & 33 & 25.1 & 0.163 & 55 & Yes\\\\\n",
       "\t3 &  5 &  77 & 82 & 41 & 35.8 & 0.156 & 35 & No \\\\\n",
       "\t4 &  0 & 165 & 76 & 43 & 47.9 & 0.259 & 26 & No \\\\\n",
       "\t5 &  0 & 107 & 60 & 25 & 26.4 & 0.133 & 23 & No \\\\\n",
       "\t6 &  5 &  97 & 76 & 27 & 35.6 & 0.378 & 52 & Yes\\\\\n",
       "\t7 &  3 &  83 & 58 & 31 & 34.3 & 0.336 & 25 & No \\\\\n",
       "\t8 &  1 & 193 & 50 & 16 & 25.9 & 0.655 & 24 & No \\\\\n",
       "\t9 &  3 & 142 & 80 & 15 & 32.4 & 0.200 & 63 & No \\\\\n",
       "\t10 &  2 & 128 & 78 & 37 & 43.3 & 1.224 & 31 & Yes\\\\\n",
       "\t11 &  0 & 137 & 40 & 35 & 43.1 & 2.288 & 33 & Yes\\\\\n",
       "\t12 &  9 & 154 & 78 & 30 & 30.9 & 0.164 & 45 & No \\\\\n",
       "\t13 &  1 & 189 & 60 & 23 & 30.1 & 0.398 & 59 & Yes\\\\\n",
       "\t14 & 12 &  92 & 62 &  7 & 27.6 & 0.926 & 44 & Yes\\\\\n",
       "\t15 &  1 &  86 & 66 & 52 & 41.3 & 0.917 & 29 & No \\\\\n",
       "\t16 &  4 &  99 & 76 & 15 & 23.2 & 0.223 & 21 & No \\\\\n",
       "\t17 &  1 & 109 & 60 &  8 & 25.4 & 0.947 & 21 & No \\\\\n",
       "\t18 & 11 & 143 & 94 & 33 & 36.6 & 0.254 & 51 & Yes\\\\\n",
       "\t19 &  1 & 149 & 68 & 29 & 29.3 & 0.349 & 42 & Yes\\\\\n",
       "\t20 &  0 & 139 & 62 & 17 & 22.1 & 0.207 & 21 & No \\\\\n",
       "\t21 &  2 &  99 & 70 & 16 & 20.4 & 0.235 & 27 & No \\\\\n",
       "\t22 &  1 & 100 & 66 & 29 & 32.0 & 0.444 & 42 & No \\\\\n",
       "\t23 &  4 &  83 & 86 & 19 & 29.3 & 0.317 & 34 & No \\\\\n",
       "\t24 &  0 & 101 & 64 & 17 & 21.0 & 0.252 & 21 & No \\\\\n",
       "\t25 &  1 &  87 & 68 & 34 & 37.6 & 0.401 & 24 & No \\\\\n",
       "\t26 &  9 & 164 & 84 & 21 & 30.8 & 0.831 & 32 & Yes\\\\\n",
       "\t27 &  1 &  99 & 58 & 10 & 25.4 & 0.551 & 21 & No \\\\\n",
       "\t28 &  0 & 140 & 65 & 26 & 42.6 & 0.431 & 24 & Yes\\\\\n",
       "\t29 &  5 & 108 & 72 & 43 & 36.1 & 0.263 & 33 & No \\\\\n",
       "\t30 &  2 & 110 & 74 & 29 & 32.4 & 0.698 & 27 & No \\\\\n",
       "\t⋮ & ⋮ & ⋮ & ⋮ & ⋮ & ⋮ & ⋮ & ⋮ & ⋮\\\\\n",
       "\t271 &  2 &  87 & NA & 23 & 28.9 & 0.773 & 25 & No \\\\\n",
       "\t272 & 10 & 108 & 66 & NA & 32.4 & 0.272 & 42 & Yes\\\\\n",
       "\t273 & 10 & 139 & 80 & NA & 27.1 & 1.441 & 57 & No \\\\\n",
       "\t274 &  4 & 110 & 92 & NA & 37.6 & 0.191 & 30 & No \\\\\n",
       "\t275 &  4 & 114 & 64 & NA & 28.9 & 0.126 & 24 & No \\\\\n",
       "\t276 &  0 & 101 & 62 & NA & 21.9 & 0.336 & 25 & No \\\\\n",
       "\t277 &  2 &  91 & 62 & NA & 27.3 & 0.525 & 22 & No \\\\\n",
       "\t278 &  8 & 133 & 72 & NA & 32.9 & 0.270 & 39 & Yes\\\\\n",
       "\t279 &  1 & 111 & 94 & NA & 32.8 & 0.265 & 45 & No \\\\\n",
       "\t280 &  5 & 147 & 75 & NA & 29.9 & 0.434 & 28 & No \\\\\n",
       "\t281 &  4 &  92 & 80 & NA & 42.2 & 0.237 & 29 & No \\\\\n",
       "\t282 &  2 &  90 & 60 & NA & 23.5 & 0.191 & 25 & No \\\\\n",
       "\t283 &  7 & 114 & 64 & NA & 27.4 & 0.732 & 34 & Yes\\\\\n",
       "\t284 &  7 & 125 & 86 & NA & 37.6 & 0.304 & 51 & No \\\\\n",
       "\t285 &  2 & 119 & NA & NA & 19.6 & 0.832 & 72 & No \\\\\n",
       "\t286 &  5 & 115 & 76 & NA & 31.2 & 0.343 & 44 & Yes\\\\\n",
       "\t287 &  0 & 141 & NA & NA & 42.4 & 0.205 & 29 & Yes\\\\\n",
       "\t288 &  0 & 167 & NA & NA & 32.3 & 0.839 & 30 & Yes\\\\\n",
       "\t289 &  4 &  90 & NA & NA & 28.0 & 0.610 & 31 & No \\\\\n",
       "\t290 &  5 & 132 & 80 & NA & 26.8 & 0.186 & 69 & No \\\\\n",
       "\t291 &  0 & 125 & 96 & NA & 22.5 & 0.262 & 21 & No \\\\\n",
       "\t292 &  3 & 150 & 76 & NA & 21.0 & 0.207 & 37 & No \\\\\n",
       "\t293 &  4 &  95 & 64 & NA & 32.0 & 0.161 & 31 & Yes\\\\\n",
       "\t294 &  4 & 136 & 70 & NA & 31.2 & 1.182 & 22 & Yes\\\\\n",
       "\t295 &  8 & 110 & 76 & NA & 27.8 & 0.237 & 58 & No \\\\\n",
       "\t296 &  0 & 125 & 68 & NA & 24.7 & 0.206 & 21 & No \\\\\n",
       "\t297 &  6 &  92 & 92 & NA & 19.9 & 0.188 & 28 & No \\\\\n",
       "\t298 &  3 & 141 & NA & NA & 30.0 & 0.761 & 27 & Yes\\\\\n",
       "\t299 &  0 &  73 & NA & NA & 21.1 & 0.342 & 25 & No \\\\\n",
       "\t300 &  2 & 129 & 84 & NA & 28.0 & 0.284 & 27 & No \\\\\n",
       "\\end{tabular}\n"
      ],
      "text/markdown": [
       "\n",
       "A data.frame: 300 × 8\n",
       "\n",
       "| <!--/--> | npreg &lt;int&gt; | glu &lt;int&gt; | bp &lt;int&gt; | skin &lt;int&gt; | bmi &lt;dbl&gt; | ped &lt;dbl&gt; | age &lt;int&gt; | type &lt;fct&gt; |\n",
       "|---|---|---|---|---|---|---|---|---|\n",
       "| 1 |  5 |  86 | 68 | 28 | 30.2 | 0.364 | 24 | No  |\n",
       "| 2 |  7 | 195 | 70 | 33 | 25.1 | 0.163 | 55 | Yes |\n",
       "| 3 |  5 |  77 | 82 | 41 | 35.8 | 0.156 | 35 | No  |\n",
       "| 4 |  0 | 165 | 76 | 43 | 47.9 | 0.259 | 26 | No  |\n",
       "| 5 |  0 | 107 | 60 | 25 | 26.4 | 0.133 | 23 | No  |\n",
       "| 6 |  5 |  97 | 76 | 27 | 35.6 | 0.378 | 52 | Yes |\n",
       "| 7 |  3 |  83 | 58 | 31 | 34.3 | 0.336 | 25 | No  |\n",
       "| 8 |  1 | 193 | 50 | 16 | 25.9 | 0.655 | 24 | No  |\n",
       "| 9 |  3 | 142 | 80 | 15 | 32.4 | 0.200 | 63 | No  |\n",
       "| 10 |  2 | 128 | 78 | 37 | 43.3 | 1.224 | 31 | Yes |\n",
       "| 11 |  0 | 137 | 40 | 35 | 43.1 | 2.288 | 33 | Yes |\n",
       "| 12 |  9 | 154 | 78 | 30 | 30.9 | 0.164 | 45 | No  |\n",
       "| 13 |  1 | 189 | 60 | 23 | 30.1 | 0.398 | 59 | Yes |\n",
       "| 14 | 12 |  92 | 62 |  7 | 27.6 | 0.926 | 44 | Yes |\n",
       "| 15 |  1 |  86 | 66 | 52 | 41.3 | 0.917 | 29 | No  |\n",
       "| 16 |  4 |  99 | 76 | 15 | 23.2 | 0.223 | 21 | No  |\n",
       "| 17 |  1 | 109 | 60 |  8 | 25.4 | 0.947 | 21 | No  |\n",
       "| 18 | 11 | 143 | 94 | 33 | 36.6 | 0.254 | 51 | Yes |\n",
       "| 19 |  1 | 149 | 68 | 29 | 29.3 | 0.349 | 42 | Yes |\n",
       "| 20 |  0 | 139 | 62 | 17 | 22.1 | 0.207 | 21 | No  |\n",
       "| 21 |  2 |  99 | 70 | 16 | 20.4 | 0.235 | 27 | No  |\n",
       "| 22 |  1 | 100 | 66 | 29 | 32.0 | 0.444 | 42 | No  |\n",
       "| 23 |  4 |  83 | 86 | 19 | 29.3 | 0.317 | 34 | No  |\n",
       "| 24 |  0 | 101 | 64 | 17 | 21.0 | 0.252 | 21 | No  |\n",
       "| 25 |  1 |  87 | 68 | 34 | 37.6 | 0.401 | 24 | No  |\n",
       "| 26 |  9 | 164 | 84 | 21 | 30.8 | 0.831 | 32 | Yes |\n",
       "| 27 |  1 |  99 | 58 | 10 | 25.4 | 0.551 | 21 | No  |\n",
       "| 28 |  0 | 140 | 65 | 26 | 42.6 | 0.431 | 24 | Yes |\n",
       "| 29 |  5 | 108 | 72 | 43 | 36.1 | 0.263 | 33 | No  |\n",
       "| 30 |  2 | 110 | 74 | 29 | 32.4 | 0.698 | 27 | No  |\n",
       "| ⋮ | ⋮ | ⋮ | ⋮ | ⋮ | ⋮ | ⋮ | ⋮ | ⋮ |\n",
       "| 271 |  2 |  87 | NA | 23 | 28.9 | 0.773 | 25 | No  |\n",
       "| 272 | 10 | 108 | 66 | NA | 32.4 | 0.272 | 42 | Yes |\n",
       "| 273 | 10 | 139 | 80 | NA | 27.1 | 1.441 | 57 | No  |\n",
       "| 274 |  4 | 110 | 92 | NA | 37.6 | 0.191 | 30 | No  |\n",
       "| 275 |  4 | 114 | 64 | NA | 28.9 | 0.126 | 24 | No  |\n",
       "| 276 |  0 | 101 | 62 | NA | 21.9 | 0.336 | 25 | No  |\n",
       "| 277 |  2 |  91 | 62 | NA | 27.3 | 0.525 | 22 | No  |\n",
       "| 278 |  8 | 133 | 72 | NA | 32.9 | 0.270 | 39 | Yes |\n",
       "| 279 |  1 | 111 | 94 | NA | 32.8 | 0.265 | 45 | No  |\n",
       "| 280 |  5 | 147 | 75 | NA | 29.9 | 0.434 | 28 | No  |\n",
       "| 281 |  4 |  92 | 80 | NA | 42.2 | 0.237 | 29 | No  |\n",
       "| 282 |  2 |  90 | 60 | NA | 23.5 | 0.191 | 25 | No  |\n",
       "| 283 |  7 | 114 | 64 | NA | 27.4 | 0.732 | 34 | Yes |\n",
       "| 284 |  7 | 125 | 86 | NA | 37.6 | 0.304 | 51 | No  |\n",
       "| 285 |  2 | 119 | NA | NA | 19.6 | 0.832 | 72 | No  |\n",
       "| 286 |  5 | 115 | 76 | NA | 31.2 | 0.343 | 44 | Yes |\n",
       "| 287 |  0 | 141 | NA | NA | 42.4 | 0.205 | 29 | Yes |\n",
       "| 288 |  0 | 167 | NA | NA | 32.3 | 0.839 | 30 | Yes |\n",
       "| 289 |  4 |  90 | NA | NA | 28.0 | 0.610 | 31 | No  |\n",
       "| 290 |  5 | 132 | 80 | NA | 26.8 | 0.186 | 69 | No  |\n",
       "| 291 |  0 | 125 | 96 | NA | 22.5 | 0.262 | 21 | No  |\n",
       "| 292 |  3 | 150 | 76 | NA | 21.0 | 0.207 | 37 | No  |\n",
       "| 293 |  4 |  95 | 64 | NA | 32.0 | 0.161 | 31 | Yes |\n",
       "| 294 |  4 | 136 | 70 | NA | 31.2 | 1.182 | 22 | Yes |\n",
       "| 295 |  8 | 110 | 76 | NA | 27.8 | 0.237 | 58 | No  |\n",
       "| 296 |  0 | 125 | 68 | NA | 24.7 | 0.206 | 21 | No  |\n",
       "| 297 |  6 |  92 | 92 | NA | 19.9 | 0.188 | 28 | No  |\n",
       "| 298 |  3 | 141 | NA | NA | 30.0 | 0.761 | 27 | Yes |\n",
       "| 299 |  0 |  73 | NA | NA | 21.1 | 0.342 | 25 | No  |\n",
       "| 300 |  2 | 129 | 84 | NA | 28.0 | 0.284 | 27 | No  |\n",
       "\n"
      ],
      "text/plain": [
       "    npreg glu bp skin bmi  ped   age type\n",
       "1    5     86 68 28   30.2 0.364 24  No  \n",
       "2    7    195 70 33   25.1 0.163 55  Yes \n",
       "3    5     77 82 41   35.8 0.156 35  No  \n",
       "4    0    165 76 43   47.9 0.259 26  No  \n",
       "5    0    107 60 25   26.4 0.133 23  No  \n",
       "6    5     97 76 27   35.6 0.378 52  Yes \n",
       "7    3     83 58 31   34.3 0.336 25  No  \n",
       "8    1    193 50 16   25.9 0.655 24  No  \n",
       "9    3    142 80 15   32.4 0.200 63  No  \n",
       "10   2    128 78 37   43.3 1.224 31  Yes \n",
       "11   0    137 40 35   43.1 2.288 33  Yes \n",
       "12   9    154 78 30   30.9 0.164 45  No  \n",
       "13   1    189 60 23   30.1 0.398 59  Yes \n",
       "14  12     92 62  7   27.6 0.926 44  Yes \n",
       "15   1     86 66 52   41.3 0.917 29  No  \n",
       "16   4     99 76 15   23.2 0.223 21  No  \n",
       "17   1    109 60  8   25.4 0.947 21  No  \n",
       "18  11    143 94 33   36.6 0.254 51  Yes \n",
       "19   1    149 68 29   29.3 0.349 42  Yes \n",
       "20   0    139 62 17   22.1 0.207 21  No  \n",
       "21   2     99 70 16   20.4 0.235 27  No  \n",
       "22   1    100 66 29   32.0 0.444 42  No  \n",
       "23   4     83 86 19   29.3 0.317 34  No  \n",
       "24   0    101 64 17   21.0 0.252 21  No  \n",
       "25   1     87 68 34   37.6 0.401 24  No  \n",
       "26   9    164 84 21   30.8 0.831 32  Yes \n",
       "27   1     99 58 10   25.4 0.551 21  No  \n",
       "28   0    140 65 26   42.6 0.431 24  Yes \n",
       "29   5    108 72 43   36.1 0.263 33  No  \n",
       "30   2    110 74 29   32.4 0.698 27  No  \n",
       "⋮   ⋮     ⋮   ⋮  ⋮    ⋮    ⋮     ⋮   ⋮   \n",
       "271  2     87 NA 23   28.9 0.773 25  No  \n",
       "272 10    108 66 NA   32.4 0.272 42  Yes \n",
       "273 10    139 80 NA   27.1 1.441 57  No  \n",
       "274  4    110 92 NA   37.6 0.191 30  No  \n",
       "275  4    114 64 NA   28.9 0.126 24  No  \n",
       "276  0    101 62 NA   21.9 0.336 25  No  \n",
       "277  2     91 62 NA   27.3 0.525 22  No  \n",
       "278  8    133 72 NA   32.9 0.270 39  Yes \n",
       "279  1    111 94 NA   32.8 0.265 45  No  \n",
       "280  5    147 75 NA   29.9 0.434 28  No  \n",
       "281  4     92 80 NA   42.2 0.237 29  No  \n",
       "282  2     90 60 NA   23.5 0.191 25  No  \n",
       "283  7    114 64 NA   27.4 0.732 34  Yes \n",
       "284  7    125 86 NA   37.6 0.304 51  No  \n",
       "285  2    119 NA NA   19.6 0.832 72  No  \n",
       "286  5    115 76 NA   31.2 0.343 44  Yes \n",
       "287  0    141 NA NA   42.4 0.205 29  Yes \n",
       "288  0    167 NA NA   32.3 0.839 30  Yes \n",
       "289  4     90 NA NA   28.0 0.610 31  No  \n",
       "290  5    132 80 NA   26.8 0.186 69  No  \n",
       "291  0    125 96 NA   22.5 0.262 21  No  \n",
       "292  3    150 76 NA   21.0 0.207 37  No  \n",
       "293  4     95 64 NA   32.0 0.161 31  Yes \n",
       "294  4    136 70 NA   31.2 1.182 22  Yes \n",
       "295  8    110 76 NA   27.8 0.237 58  No  \n",
       "296  0    125 68 NA   24.7 0.206 21  No  \n",
       "297  6     92 92 NA   19.9 0.188 28  No  \n",
       "298  3    141 NA NA   30.0 0.761 27  Yes \n",
       "299  0     73 NA NA   21.1 0.342 25  No  \n",
       "300  2    129 84 NA   28.0 0.284 27  No  "
      ]
     },
     "metadata": {},
     "output_type": "display_data"
    }
   ],
   "source": [
    "data(Pima.tr2)\n",
    "View(Pima.tr2)"
   ]
  },
  {
   "cell_type": "markdown",
   "metadata": {},
   "source": [
    "### Exercise 2\n",
    "\n",
    "Data can often have missing values corresponding to cases where the experiment did not deliver a measurement of e.g. a gene in a specific experimental sample.\n",
    "We will count the number of missing values to estimate how well an experiment went.\n",
    "\n",
    "Read the data frame ```Pima.tr2``` from the MASS library. \n",
    "Calculate the dimensions of the data frame by executing the following cell. \n",
    "Count the number of missing values for each column. For that add R code that contains the functions ```is.na()``` and ```colSums()```. \n",
    "\n",
    "Use ```table()``` on the output of ```rowSums()``` to count how many rows do have how many missing values. \n"
   ]
  },
  {
   "cell_type": "code",
   "execution_count": 4,
   "metadata": {},
   "outputs": [
    {
     "data": {
      "text/html": [
       "2"
      ],
      "text/latex": [
       "2"
      ],
      "text/markdown": [
       "2"
      ],
      "text/plain": [
       "[1] 2"
      ]
     },
     "metadata": {},
     "output_type": "display_data"
    }
   ],
   "source": [
    "test_vec<-c(1,NA,3,4,NA,5,6)\n",
    "sum(is.na(test_vec))"
   ]
  },
  {
   "cell_type": "code",
   "execution_count": 9,
   "metadata": {},
   "outputs": [
    {
     "data": {
      "text/html": [
       "<style>\n",
       ".list-inline {list-style: none; margin:0; padding: 0}\n",
       ".list-inline>li {display: inline-block}\n",
       ".list-inline>li:not(:last-child)::after {content: \"\\00b7\"; padding: 0 .5ex}\n",
       "</style>\n",
       "<ol class=list-inline><li>300</li><li>8</li></ol>\n"
      ],
      "text/latex": [
       "\\begin{enumerate*}\n",
       "\\item 300\n",
       "\\item 8\n",
       "\\end{enumerate*}\n"
      ],
      "text/markdown": [
       "1. 300\n",
       "2. 8\n",
       "\n",
       "\n"
      ],
      "text/plain": [
       "[1] 300   8"
      ]
     },
     "metadata": {},
     "output_type": "display_data"
    },
    {
     "data": {
      "text/plain": [
       "miss_val_per_row\n",
       "  0   1   2 \n",
       "200  86  14 "
      ]
     },
     "metadata": {},
     "output_type": "display_data"
    }
   ],
   "source": [
    "data(Pima.tr2)\n",
    "# the data.frame is in the Pima.tr2 object\n",
    "dim(Pima.tr2)\n",
    "# add your code here:\n",
    "miss_val_per_row<-rowSums(is.na(Pima.tr2))\n",
    "table(miss_val_per_row)"
   ]
  },
  {
   "cell_type": "markdown",
   "metadata": {},
   "source": [
    "### Exercise 3\n",
    "\n",
    "We will now use standard statistical descriptors on different data sets. Visual aids like histograms help estimating whether these descriptors correctly describe the data.\n",
    "\n",
    "Use the functions ```mean()``` and```range()``` to find the mean and range of.\n",
    "- the numbers 1, 2, ..., 21\n",
    "- the sample of 50 random values generated from a normal distribution with mean 0 and variance 1 using ```rnorm(50)```. Repeat several times with new set of 50 random numbers to get a feeling about random numbers.\n",
    "- the columns ```height``` and ```weight``` in the data frame \\```women``` \n",
    "\n",
    "Repeat all above, but now with the functions ```median()```, ```sum()``` and ```sd()```.\n",
    "\n"
   ]
  },
  {
   "cell_type": "code",
   "execution_count": 18,
   "metadata": {},
   "outputs": [
    {
     "data": {
      "text/html": [
       "<table class=\"dataframe\">\n",
       "<caption>A data.frame: 15 × 2</caption>\n",
       "<thead>\n",
       "\t<tr><th scope=col>height</th><th scope=col>weight</th></tr>\n",
       "\t<tr><th scope=col>&lt;dbl&gt;</th><th scope=col>&lt;dbl&gt;</th></tr>\n",
       "</thead>\n",
       "<tbody>\n",
       "\t<tr><td>58</td><td>115</td></tr>\n",
       "\t<tr><td>59</td><td>117</td></tr>\n",
       "\t<tr><td>60</td><td>120</td></tr>\n",
       "\t<tr><td>61</td><td>123</td></tr>\n",
       "\t<tr><td>62</td><td>126</td></tr>\n",
       "\t<tr><td>63</td><td>129</td></tr>\n",
       "\t<tr><td>64</td><td>132</td></tr>\n",
       "\t<tr><td>65</td><td>135</td></tr>\n",
       "\t<tr><td>66</td><td>139</td></tr>\n",
       "\t<tr><td>67</td><td>142</td></tr>\n",
       "\t<tr><td>68</td><td>146</td></tr>\n",
       "\t<tr><td>69</td><td>150</td></tr>\n",
       "\t<tr><td>70</td><td>154</td></tr>\n",
       "\t<tr><td>71</td><td>159</td></tr>\n",
       "\t<tr><td>72</td><td>164</td></tr>\n",
       "</tbody>\n",
       "</table>\n"
      ],
      "text/latex": [
       "A data.frame: 15 × 2\n",
       "\\begin{tabular}{ll}\n",
       " height & weight\\\\\n",
       " <dbl> & <dbl>\\\\\n",
       "\\hline\n",
       "\t 58 & 115\\\\\n",
       "\t 59 & 117\\\\\n",
       "\t 60 & 120\\\\\n",
       "\t 61 & 123\\\\\n",
       "\t 62 & 126\\\\\n",
       "\t 63 & 129\\\\\n",
       "\t 64 & 132\\\\\n",
       "\t 65 & 135\\\\\n",
       "\t 66 & 139\\\\\n",
       "\t 67 & 142\\\\\n",
       "\t 68 & 146\\\\\n",
       "\t 69 & 150\\\\\n",
       "\t 70 & 154\\\\\n",
       "\t 71 & 159\\\\\n",
       "\t 72 & 164\\\\\n",
       "\\end{tabular}\n"
      ],
      "text/markdown": [
       "\n",
       "A data.frame: 15 × 2\n",
       "\n",
       "| height &lt;dbl&gt; | weight &lt;dbl&gt; |\n",
       "|---|---|\n",
       "| 58 | 115 |\n",
       "| 59 | 117 |\n",
       "| 60 | 120 |\n",
       "| 61 | 123 |\n",
       "| 62 | 126 |\n",
       "| 63 | 129 |\n",
       "| 64 | 132 |\n",
       "| 65 | 135 |\n",
       "| 66 | 139 |\n",
       "| 67 | 142 |\n",
       "| 68 | 146 |\n",
       "| 69 | 150 |\n",
       "| 70 | 154 |\n",
       "| 71 | 159 |\n",
       "| 72 | 164 |\n",
       "\n"
      ],
      "text/plain": [
       "   height weight\n",
       "1  58     115   \n",
       "2  59     117   \n",
       "3  60     120   \n",
       "4  61     123   \n",
       "5  62     126   \n",
       "6  63     129   \n",
       "7  64     132   \n",
       "8  65     135   \n",
       "9  66     139   \n",
       "10 67     142   \n",
       "11 68     146   \n",
       "12 69     150   \n",
       "13 70     154   \n",
       "14 71     159   \n",
       "15 72     164   "
      ]
     },
     "metadata": {},
     "output_type": "display_data"
    },
    {
     "data": {
      "image/png": "[encoded data removed]",
      "text/plain": [
       "Plot with title “Histogram of women$weight”"
      ]
     },
     "metadata": {
      "image/png": {
       "height": 420,
       "width": 420
      }
     },
     "output_type": "display_data"
    },
    {
     "data": {
      "text/html": [
       "136.733333333333"
      ],
      "text/latex": [
       "136.733333333333"
      ],
      "text/markdown": [
       "136.733333333333"
      ],
      "text/plain": [
       "[1] 136.7333"
      ]
     },
     "metadata": {},
     "output_type": "display_data"
    },
    {
     "data": {
      "text/html": [
       "2051"
      ],
      "text/latex": [
       "2051"
      ],
      "text/markdown": [
       "2051"
      ],
      "text/plain": [
       "[1] 2051"
      ]
     },
     "metadata": {},
     "output_type": "display_data"
    },
    {
     "data": {
      "text/html": [
       "15.4986942614378"
      ],
      "text/latex": [
       "15.4986942614378"
      ],
      "text/markdown": [
       "15.4986942614378"
      ],
      "text/plain": [
       "[1] 15.49869"
      ]
     },
     "metadata": {},
     "output_type": "display_data"
    },
    {
     "data": {
      "image/png": "[encoded data removed]",
      "text/plain": [
       "Plot with title “Histogram of women$height”"
      ]
     },
     "metadata": {
      "image/png": {
       "height": 420,
       "width": 420
      }
     },
     "output_type": "display_data"
    }
   ],
   "source": [
    "x <- 1:21\n",
    "\n",
    "y <- rnorm(50)\n",
    "\n",
    "data(women)\n",
    "View(women)\n",
    "z1 <- women$height\n",
    "z2 <- women$weight\n",
    "hist(women$weight)\n",
    "hist(women$height)\n",
    "mean(women$weight)\n",
    "sum(women$weight)\n",
    "sd(women$weight)"
   ]
  },
  {
   "cell_type": "markdown",
   "metadata": {},
   "source": [
    "##### Question I:  <u>Which are good descriptors for the different samples?</u>\n",
    "\n",
    "_mean, median and sd_\n",
    "\n",
    "##### Question II:  <u>What is the most accurate way to describe normally distributed data?</u>\n",
    "\n",
    "_mean and sd_"
   ]
  },
  {
   "cell_type": "markdown",
   "metadata": {},
   "source": [
    "### Exercise 4\n",
    "Now we will look into data that cannot be accurately described by standard visualization or descriptors. However, data transformation can often be used to achieve a more proper summarization and visualization.\n",
    "\n",
    "Get dataset ```mammals``` that is part of package MASS. Plot ```brain``` versus ```body```. Additionally, do the same plot accessing the columns directly. Try to visualize the data on logarithmic scale applying the ```log``` argument in the ```plot``` function. \n"
   ]
  },
  {
   "cell_type": "code",
   "execution_count": 15,
   "metadata": {},
   "outputs": [
    {
     "data": {
      "image/png": "[encoded data removed]",
      "text/plain": [
       "plot without title"
      ]
     },
     "metadata": {
      "image/png": {
       "height": 420,
       "width": 420
      }
     },
     "output_type": "display_data"
    }
   ],
   "source": [
    "library(MASS)\n",
    "data(\"mammals\")\n",
    "x <- mammals$body\n",
    "y <- mammals$brain\n",
    "plot(log(x),log(y))"
   ]
  },
  {
   "cell_type": "markdown",
   "metadata": {},
   "source": [
    "##### Question I:  <u>Why is the logarithmic scale more suitable?</u>\n",
    "\n",
    "_1.respond to skewness towards large values: i.e., cases in which one or a few points are much larger than the bulk of the data.  \n",
    "2.show percent change or multiplicative factors._\n",
    "\n",
    "##### Question II:  <u>What is the relation between x and y when they show a linear relationship on double-logarithmic scale (both axis on logarithmic scale)?</u>\n",
    "\n",
    "$$ y=Cx^k ,\\  where\\ C > 0 \\ and \\ k\\neq 0 $$  \n",
    "example:"
   ]
  },
  {
   "cell_type": "code",
   "execution_count": 9,
   "metadata": {},
   "outputs": [
    {
     "data": {
      "image/png": "[encoded data removed]",
      "text/plain": [
       "plot without title"
      ]
     },
     "metadata": {
      "image/png": {
       "height": 420,
       "width": 420
      }
     },
     "output_type": "display_data"
    },
    {
     "data": {
      "image/png": "[encoded data removed]",
      "text/plain": [
       "plot without title"
      ]
     },
     "metadata": {
      "image/png": {
       "height": 420,
       "width": 420
      }
     },
     "output_type": "display_data"
    }
   ],
   "source": [
    "x<-1:10\n",
    "y<- 4*a^(-1)\n",
    "plot(x,y)\n",
    "plot(log(x),log(y))"
   ]
  },
  {
   "cell_type": "code",
   "execution_count": 50,
   "metadata": {},
   "outputs": [
    {
     "data": {
      "text/html": [
       "<table class=\"dataframe\">\n",
       "<caption>A data.frame: 61 × 3</caption>\n",
       "<thead>\n",
       "\t<tr><th></th><th scope=col>Litter</th><th scope=col>Mother</th><th scope=col>Wt</th></tr>\n",
       "\t<tr><th></th><th scope=col>&lt;fct&gt;</th><th scope=col>&lt;fct&gt;</th><th scope=col>&lt;dbl&gt;</th></tr>\n",
       "</thead>\n",
       "<tbody>\n",
       "\t<tr><th scope=row>15</th><td>A</td><td>J</td><td>61.0</td></tr>\n",
       "\t<tr><th scope=row>46</th><td>I</td><td>J</td><td>54.5</td></tr>\n",
       "\t<tr><th scope=row>14</th><td>A</td><td>J</td><td>54.0</td></tr>\n",
       "\t<tr><th scope=row>61</th><td>J</td><td>J</td><td>54.0</td></tr>\n",
       "\t<tr><th scope=row>59</th><td>J</td><td>J</td><td>53.0</td></tr>\n",
       "\t<tr><th scope=row>58</th><td>J</td><td>J</td><td>51.5</td></tr>\n",
       "\t<tr><th scope=row>31</th><td>B</td><td>J</td><td>51.3</td></tr>\n",
       "\t<tr><th scope=row>44</th><td>I</td><td>J</td><td>50.0</td></tr>\n",
       "\t<tr><th scope=row>16</th><td>A</td><td>J</td><td>48.2</td></tr>\n",
       "\t<tr><th scope=row>57</th><td>J</td><td>J</td><td>44.8</td></tr>\n",
       "\t<tr><th scope=row>45</th><td>I</td><td>J</td><td>43.8</td></tr>\n",
       "\t<tr><th scope=row>13</th><td>A</td><td>J</td><td>42.0</td></tr>\n",
       "\t<tr><th scope=row>60</th><td>J</td><td>J</td><td>42.0</td></tr>\n",
       "\t<tr><th scope=row>32</th><td>B</td><td>J</td><td>40.5</td></tr>\n",
       "\t<tr><th scope=row>17</th><td>A</td><td>J</td><td>39.6</td></tr>\n",
       "\t<tr><th scope=row>10</th><td>A</td><td>I</td><td>61.8</td></tr>\n",
       "\t<tr><th scope=row>56</th><td>J</td><td>I</td><td>61.4</td></tr>\n",
       "\t<tr><th scope=row>41</th><td>I</td><td>I</td><td>61.3</td></tr>\n",
       "\t<tr><th scope=row>28</th><td>B</td><td>I</td><td>59.0</td></tr>\n",
       "\t<tr><th scope=row>55</th><td>J</td><td>I</td><td>57.0</td></tr>\n",
       "\t<tr><th scope=row>27</th><td>B</td><td>I</td><td>56.5</td></tr>\n",
       "\t<tr><th scope=row>43</th><td>I</td><td>I</td><td>55.7</td></tr>\n",
       "\t<tr><th scope=row>42</th><td>I</td><td>I</td><td>55.3</td></tr>\n",
       "\t<tr><th scope=row>30</th><td>B</td><td>I</td><td>53.0</td></tr>\n",
       "\t<tr><th scope=row>12</th><td>A</td><td>I</td><td>52.7</td></tr>\n",
       "\t<tr><th scope=row>9</th><td>A</td><td>I</td><td>52.5</td></tr>\n",
       "\t<tr><th scope=row>11</th><td>A</td><td>I</td><td>49.5</td></tr>\n",
       "\t<tr><th scope=row>29</th><td>B</td><td>I</td><td>47.2</td></tr>\n",
       "\t<tr><th scope=row>40</th><td>I</td><td>I</td><td>46.0</td></tr>\n",
       "\t<tr><th scope=row>54</th><td>J</td><td>I</td><td>45.2</td></tr>\n",
       "\t<tr><th scope=row>⋮</th><td>⋮</td><td>⋮</td><td>⋮</td></tr>\n",
       "\t<tr><th scope=row>37</th><td>I</td><td>B</td><td>69.8</td></tr>\n",
       "\t<tr><th scope=row>38</th><td>I</td><td>B</td><td>67.0</td></tr>\n",
       "\t<tr><th scope=row>23</th><td>B</td><td>B</td><td>64.7</td></tr>\n",
       "\t<tr><th scope=row>25</th><td>B</td><td>B</td><td>64.0</td></tr>\n",
       "\t<tr><th scope=row>26</th><td>B</td><td>B</td><td>62.0</td></tr>\n",
       "\t<tr><th scope=row>24</th><td>B</td><td>B</td><td>61.7</td></tr>\n",
       "\t<tr><th scope=row>8</th><td>A</td><td>B</td><td>60.2</td></tr>\n",
       "\t<tr><th scope=row>51</th><td>J</td><td>B</td><td>59.5</td></tr>\n",
       "\t<tr><th scope=row>36</th><td>I</td><td>B</td><td>56.3</td></tr>\n",
       "\t<tr><th scope=row>53</th><td>J</td><td>B</td><td>56.0</td></tr>\n",
       "\t<tr><th scope=row>6</th><td>A</td><td>B</td><td>55.0</td></tr>\n",
       "\t<tr><th scope=row>52</th><td>J</td><td>B</td><td>52.8</td></tr>\n",
       "\t<tr><th scope=row>22</th><td>B</td><td>B</td><td>50.8</td></tr>\n",
       "\t<tr><th scope=row>7</th><td>A</td><td>B</td><td>42.0</td></tr>\n",
       "\t<tr><th scope=row>2</th><td>A</td><td>A</td><td>68.2</td></tr>\n",
       "\t<tr><th scope=row>35</th><td>I</td><td>A</td><td>68.0</td></tr>\n",
       "\t<tr><th scope=row>4</th><td>A</td><td>A</td><td>65.0</td></tr>\n",
       "\t<tr><th scope=row>3</th><td>A</td><td>A</td><td>64.0</td></tr>\n",
       "\t<tr><th scope=row>1</th><td>A</td><td>A</td><td>61.5</td></tr>\n",
       "\t<tr><th scope=row>18</th><td>B</td><td>A</td><td>60.3</td></tr>\n",
       "\t<tr><th scope=row>5</th><td>A</td><td>A</td><td>59.7</td></tr>\n",
       "\t<tr><th scope=row>47</th><td>J</td><td>A</td><td>59.0</td></tr>\n",
       "\t<tr><th scope=row>48</th><td>J</td><td>A</td><td>57.4</td></tr>\n",
       "\t<tr><th scope=row>49</th><td>J</td><td>A</td><td>54.0</td></tr>\n",
       "\t<tr><th scope=row>19</th><td>B</td><td>A</td><td>51.7</td></tr>\n",
       "\t<tr><th scope=row>20</th><td>B</td><td>A</td><td>49.3</td></tr>\n",
       "\t<tr><th scope=row>21</th><td>B</td><td>A</td><td>48.0</td></tr>\n",
       "\t<tr><th scope=row>50</th><td>J</td><td>A</td><td>47.0</td></tr>\n",
       "\t<tr><th scope=row>33</th><td>I</td><td>A</td><td>37.0</td></tr>\n",
       "\t<tr><th scope=row>34</th><td>I</td><td>A</td><td>36.3</td></tr>\n",
       "</tbody>\n",
       "</table>\n"
      ],
      "text/latex": [
       "A data.frame: 61 × 3\n",
       "\\begin{tabular}{r|lll}\n",
       "  & Litter & Mother & Wt\\\\\n",
       "  & <fct> & <fct> & <dbl>\\\\\n",
       "\\hline\n",
       "\t15 & A & J & 61.0\\\\\n",
       "\t46 & I & J & 54.5\\\\\n",
       "\t14 & A & J & 54.0\\\\\n",
       "\t61 & J & J & 54.0\\\\\n",
       "\t59 & J & J & 53.0\\\\\n",
       "\t58 & J & J & 51.5\\\\\n",
       "\t31 & B & J & 51.3\\\\\n",
       "\t44 & I & J & 50.0\\\\\n",
       "\t16 & A & J & 48.2\\\\\n",
       "\t57 & J & J & 44.8\\\\\n",
       "\t45 & I & J & 43.8\\\\\n",
       "\t13 & A & J & 42.0\\\\\n",
       "\t60 & J & J & 42.0\\\\\n",
       "\t32 & B & J & 40.5\\\\\n",
       "\t17 & A & J & 39.6\\\\\n",
       "\t10 & A & I & 61.8\\\\\n",
       "\t56 & J & I & 61.4\\\\\n",
       "\t41 & I & I & 61.3\\\\\n",
       "\t28 & B & I & 59.0\\\\\n",
       "\t55 & J & I & 57.0\\\\\n",
       "\t27 & B & I & 56.5\\\\\n",
       "\t43 & I & I & 55.7\\\\\n",
       "\t42 & I & I & 55.3\\\\\n",
       "\t30 & B & I & 53.0\\\\\n",
       "\t12 & A & I & 52.7\\\\\n",
       "\t9 & A & I & 52.5\\\\\n",
       "\t11 & A & I & 49.5\\\\\n",
       "\t29 & B & I & 47.2\\\\\n",
       "\t40 & I & I & 46.0\\\\\n",
       "\t54 & J & I & 45.2\\\\\n",
       "\t⋮ & ⋮ & ⋮ & ⋮\\\\\n",
       "\t37 & I & B & 69.8\\\\\n",
       "\t38 & I & B & 67.0\\\\\n",
       "\t23 & B & B & 64.7\\\\\n",
       "\t25 & B & B & 64.0\\\\\n",
       "\t26 & B & B & 62.0\\\\\n",
       "\t24 & B & B & 61.7\\\\\n",
       "\t8 & A & B & 60.2\\\\\n",
       "\t51 & J & B & 59.5\\\\\n",
       "\t36 & I & B & 56.3\\\\\n",
       "\t53 & J & B & 56.0\\\\\n",
       "\t6 & A & B & 55.0\\\\\n",
       "\t52 & J & B & 52.8\\\\\n",
       "\t22 & B & B & 50.8\\\\\n",
       "\t7 & A & B & 42.0\\\\\n",
       "\t2 & A & A & 68.2\\\\\n",
       "\t35 & I & A & 68.0\\\\\n",
       "\t4 & A & A & 65.0\\\\\n",
       "\t3 & A & A & 64.0\\\\\n",
       "\t1 & A & A & 61.5\\\\\n",
       "\t18 & B & A & 60.3\\\\\n",
       "\t5 & A & A & 59.7\\\\\n",
       "\t47 & J & A & 59.0\\\\\n",
       "\t48 & J & A & 57.4\\\\\n",
       "\t49 & J & A & 54.0\\\\\n",
       "\t19 & B & A & 51.7\\\\\n",
       "\t20 & B & A & 49.3\\\\\n",
       "\t21 & B & A & 48.0\\\\\n",
       "\t50 & J & A & 47.0\\\\\n",
       "\t33 & I & A & 37.0\\\\\n",
       "\t34 & I & A & 36.3\\\\\n",
       "\\end{tabular}\n"
      ],
      "text/markdown": [
       "\n",
       "A data.frame: 61 × 3\n",
       "\n",
       "| <!--/--> | Litter &lt;fct&gt; | Mother &lt;fct&gt; | Wt &lt;dbl&gt; |\n",
       "|---|---|---|---|\n",
       "| 15 | A | J | 61.0 |\n",
       "| 46 | I | J | 54.5 |\n",
       "| 14 | A | J | 54.0 |\n",
       "| 61 | J | J | 54.0 |\n",
       "| 59 | J | J | 53.0 |\n",
       "| 58 | J | J | 51.5 |\n",
       "| 31 | B | J | 51.3 |\n",
       "| 44 | I | J | 50.0 |\n",
       "| 16 | A | J | 48.2 |\n",
       "| 57 | J | J | 44.8 |\n",
       "| 45 | I | J | 43.8 |\n",
       "| 13 | A | J | 42.0 |\n",
       "| 60 | J | J | 42.0 |\n",
       "| 32 | B | J | 40.5 |\n",
       "| 17 | A | J | 39.6 |\n",
       "| 10 | A | I | 61.8 |\n",
       "| 56 | J | I | 61.4 |\n",
       "| 41 | I | I | 61.3 |\n",
       "| 28 | B | I | 59.0 |\n",
       "| 55 | J | I | 57.0 |\n",
       "| 27 | B | I | 56.5 |\n",
       "| 43 | I | I | 55.7 |\n",
       "| 42 | I | I | 55.3 |\n",
       "| 30 | B | I | 53.0 |\n",
       "| 12 | A | I | 52.7 |\n",
       "| 9 | A | I | 52.5 |\n",
       "| 11 | A | I | 49.5 |\n",
       "| 29 | B | I | 47.2 |\n",
       "| 40 | I | I | 46.0 |\n",
       "| 54 | J | I | 45.2 |\n",
       "| ⋮ | ⋮ | ⋮ | ⋮ |\n",
       "| 37 | I | B | 69.8 |\n",
       "| 38 | I | B | 67.0 |\n",
       "| 23 | B | B | 64.7 |\n",
       "| 25 | B | B | 64.0 |\n",
       "| 26 | B | B | 62.0 |\n",
       "| 24 | B | B | 61.7 |\n",
       "| 8 | A | B | 60.2 |\n",
       "| 51 | J | B | 59.5 |\n",
       "| 36 | I | B | 56.3 |\n",
       "| 53 | J | B | 56.0 |\n",
       "| 6 | A | B | 55.0 |\n",
       "| 52 | J | B | 52.8 |\n",
       "| 22 | B | B | 50.8 |\n",
       "| 7 | A | B | 42.0 |\n",
       "| 2 | A | A | 68.2 |\n",
       "| 35 | I | A | 68.0 |\n",
       "| 4 | A | A | 65.0 |\n",
       "| 3 | A | A | 64.0 |\n",
       "| 1 | A | A | 61.5 |\n",
       "| 18 | B | A | 60.3 |\n",
       "| 5 | A | A | 59.7 |\n",
       "| 47 | J | A | 59.0 |\n",
       "| 48 | J | A | 57.4 |\n",
       "| 49 | J | A | 54.0 |\n",
       "| 19 | B | A | 51.7 |\n",
       "| 20 | B | A | 49.3 |\n",
       "| 21 | B | A | 48.0 |\n",
       "| 50 | J | A | 47.0 |\n",
       "| 33 | I | A | 37.0 |\n",
       "| 34 | I | A | 36.3 |\n",
       "\n"
      ],
      "text/plain": [
       "   Litter Mother Wt  \n",
       "15 A      J      61.0\n",
       "46 I      J      54.5\n",
       "14 A      J      54.0\n",
       "61 J      J      54.0\n",
       "59 J      J      53.0\n",
       "58 J      J      51.5\n",
       "31 B      J      51.3\n",
       "44 I      J      50.0\n",
       "16 A      J      48.2\n",
       "57 J      J      44.8\n",
       "45 I      J      43.8\n",
       "13 A      J      42.0\n",
       "60 J      J      42.0\n",
       "32 B      J      40.5\n",
       "17 A      J      39.6\n",
       "10 A      I      61.8\n",
       "56 J      I      61.4\n",
       "41 I      I      61.3\n",
       "28 B      I      59.0\n",
       "55 J      I      57.0\n",
       "27 B      I      56.5\n",
       "43 I      I      55.7\n",
       "42 I      I      55.3\n",
       "30 B      I      53.0\n",
       "12 A      I      52.7\n",
       "9  A      I      52.5\n",
       "11 A      I      49.5\n",
       "29 B      I      47.2\n",
       "40 I      I      46.0\n",
       "54 J      I      45.2\n",
       "⋮  ⋮      ⋮      ⋮   \n",
       "37 I      B      69.8\n",
       "38 I      B      67.0\n",
       "23 B      B      64.7\n",
       "25 B      B      64.0\n",
       "26 B      B      62.0\n",
       "24 B      B      61.7\n",
       "8  A      B      60.2\n",
       "51 J      B      59.5\n",
       "36 I      B      56.3\n",
       "53 J      B      56.0\n",
       "6  A      B      55.0\n",
       "52 J      B      52.8\n",
       "22 B      B      50.8\n",
       "7  A      B      42.0\n",
       "2  A      A      68.2\n",
       "35 I      A      68.0\n",
       "4  A      A      65.0\n",
       "3  A      A      64.0\n",
       "1  A      A      61.5\n",
       "18 B      A      60.3\n",
       "5  A      A      59.7\n",
       "47 J      A      59.0\n",
       "48 J      A      57.4\n",
       "49 J      A      54.0\n",
       "19 B      A      51.7\n",
       "20 B      A      49.3\n",
       "21 B      A      48.0\n",
       "50 J      A      47.0\n",
       "33 I      A      37.0\n",
       "34 I      A      36.3"
      ]
     },
     "metadata": {},
     "output_type": "display_data"
    },
    {
     "data": {
      "image/png": "[encoded data removed]",
      "text/plain": [
       "plot without title"
      ]
     },
     "metadata": {
      "image/png": {
       "height": 420,
       "width": 420
      }
     },
     "output_type": "display_data"
    }
   ],
   "source": [
    "library(MASS)\n",
    "data(genotype)\n",
    "A <- genotype[order(genotype$Wt,decreasing = T),]\n",
    "B <- genotype[order(genotype$Mother),]\n",
    "C <- A[order(A$Mother,decreasing = T),]\n",
    "#show data\n",
    "C\n",
    "plot(C$Mother,C$Wt)"
   ]
  },
  {
   "cell_type": "markdown",
   "metadata": {},
   "source": [
    "##### Question I:  <u>Do you see any relation between having a mother of the same genotype and the average weight gain?</u>\n",
    "\n",
    "_having a mother of B genotype is likely have a higher weight, and J for lower weight_"
   ]
  },
  {
   "cell_type": "markdown",
   "metadata": {},
   "source": [
    "### Exercise 6\n",
    "\n",
    "One can solve the same tasks in multiple ways, such as using a for loop or a while loop.\n",
    "\n",
    "Look at the ```for``` loop below that prints each number of a vector on a separate line, with its square and cube alongside.\n",
    "\n",
    "Look up ```help(\"while\")```. Show how to use a ```while``` loop to achieve the same result.\n"
   ]
  },
  {
   "cell_type": "code",
   "execution_count": 1,
   "metadata": {},
   "outputs": [
    {
     "name": "stdout",
     "output_type": "stream",
     "text": [
      "[1] \"1 1 1\"\n",
      "[1] \"2 4 8\"\n",
      "[1] \"3 9 27\"\n",
      "[1] \"4 16 64\"\n",
      "[1] \"5 25 125\"\n",
      "[1] \"6 36 216\"\n",
      "[1] \"7 49 343\"\n",
      "[1] \"8 64 512\"\n",
      "[1] \"9 81 729\"\n",
      "[1] \"10 100 1000\"\n"
     ]
    }
   ],
   "source": [
    "vec <- 1:10\n",
    "for (i in vec) {\n",
    "  print(paste(i, i*i, i^3))\n",
    "}\n"
   ]
  },
  {
   "cell_type": "code",
   "execution_count": 4,
   "metadata": {},
   "outputs": [
    {
     "name": "stdout",
     "output_type": "stream",
     "text": [
      "[1] \"1 1 1\"\n",
      "[1] \"2 4 8\"\n",
      "[1] \"3 9 27\"\n",
      "[1] \"4 16 64\"\n",
      "[1] \"5 25 125\"\n",
      "[1] \"6 36 216\"\n",
      "[1] \"7 49 343\"\n",
      "[1] \"8 64 512\"\n",
      "[1] \"9 81 729\"\n",
      "[1] \"10 100 1000\"\n"
     ]
    }
   ],
   "source": [
    "i = 1\n",
    "while (i<11) {\n",
    "  print(paste(i, i*i, i^3))\n",
    "    i=i+1\n",
    "}\n",
    "\n"
   ]
  },
  {
   "cell_type": "markdown",
   "metadata": {},
   "source": [
    "### Exercise 7\n",
    "\n",
    "The ```paste``` function is very useful to build strings, as well as merge and display different values.\n",
    "\n",
    "Carry out the commands below\n",
    "\n"
   ]
  },
  {
   "cell_type": "code",
   "execution_count": 8,
   "metadata": {},
   "outputs": [
    {
     "data": {
      "text/html": [
       "'Leo the lion'"
      ],
      "text/latex": [
       "'Leo the lion'"
      ],
      "text/markdown": [
       "'Leo the lion'"
      ],
      "text/plain": [
       "[1] \"Leo the lion\""
      ]
     },
     "metadata": {},
     "output_type": "display_data"
    },
    {
     "data": {
      "text/html": [
       "'a b'"
      ],
      "text/latex": [
       "'a b'"
      ],
      "text/markdown": [
       "'a b'"
      ],
      "text/plain": [
       "[1] \"a b\""
      ]
     },
     "metadata": {},
     "output_type": "display_data"
    },
    {
     "data": {
      "text/html": [
       "'ab'"
      ],
      "text/latex": [
       "'ab'"
      ],
      "text/markdown": [
       "'ab'"
      ],
      "text/plain": [
       "[1] \"ab\""
      ]
     },
     "metadata": {},
     "output_type": "display_data"
    },
    {
     "data": {
      "text/html": [
       "<style>\n",
       ".list-inline {list-style: none; margin:0; padding: 0}\n",
       ".list-inline>li {display: inline-block}\n",
       ".list-inline>li:not(:last-child)::after {content: \"\\00b7\"; padding: 0 .5ex}\n",
       "</style>\n",
       "<ol class=list-inline><li>'1'</li><li>'2'</li><li>'3'</li><li>'4'</li><li>'5'</li></ol>\n"
      ],
      "text/latex": [
       "\\begin{enumerate*}\n",
       "\\item '1'\n",
       "\\item '2'\n",
       "\\item '3'\n",
       "\\item '4'\n",
       "\\item '5'\n",
       "\\end{enumerate*}\n"
      ],
      "text/markdown": [
       "1. '1'\n",
       "2. '2'\n",
       "3. '3'\n",
       "4. '4'\n",
       "5. '5'\n",
       "\n",
       "\n"
      ],
      "text/plain": [
       "[1] \"1\" \"2\" \"3\" \"4\" \"5\""
      ]
     },
     "metadata": {},
     "output_type": "display_data"
    },
    {
     "data": {
      "text/html": [
       "'12345'"
      ],
      "text/latex": [
       "'12345'"
      ],
      "text/markdown": [
       "'12345'"
      ],
      "text/plain": [
       "[1] \"12345\""
      ]
     },
     "metadata": {},
     "output_type": "display_data"
    },
    {
     "data": {
      "text/html": [
       "'a1B 1'"
      ],
      "text/latex": [
       "'a1B 1'"
      ],
      "text/markdown": [
       "'a1B 1'"
      ],
      "text/plain": [
       "[1] \"a1B 1\""
      ]
     },
     "metadata": {},
     "output_type": "display_data"
    },
    {
     "data": {
      "text/html": [
       "'a1 B 1'"
      ],
      "text/latex": [
       "'a1 B 1'"
      ],
      "text/markdown": [
       "'a1 B 1'"
      ],
      "text/plain": [
       "[1] \"a1 B 1\""
      ]
     },
     "metadata": {},
     "output_type": "display_data"
    }
   ],
   "source": [
    "paste(\"Leo\",\"the\",\"lion\")\n",
    "paste(\"a\",\"b\")\n",
    "paste(\"a\",\"b\", sep=\"\")\n",
    "paste(1:5)\n",
    "paste(1:5, collapse=\"\")\n",
    "paste(\"a1\",\"B 1\", sep=\"\")\n",
    "paste(\"a1\",\"B 1\", collapse=\"\")"
   ]
  },
  {
   "cell_type": "code",
   "execution_count": 9,
   "metadata": {},
   "outputs": [
    {
     "name": "stdout",
     "output_type": "stream",
     "text": [
      "[1] \"Google Runoob Taobao\"\n",
      "[1] \"Google-Runoob-Taobao\"\n",
      "[1] \"a1=b2=c3=d4=e5=f6\"\n"
     ]
    },
    {
     "data": {
      "text/html": [
       "'a 1.b 2.c 3.d 4.e 5.f 6'"
      ],
      "text/latex": [
       "'a 1.b 2.c 3.d 4.e 5.f 6'"
      ],
      "text/markdown": [
       "'a 1.b 2.c 3.d 4.e 5.f 6'"
      ],
      "text/plain": [
       "[1] \"a 1.b 2.c 3.d 4.e 5.f 6\""
      ]
     },
     "metadata": {},
     "output_type": "display_data"
    }
   ],
   "source": [
    "a <- \"Google\"\n",
    "b <- 'Runoob'\n",
    "c <- \"Taobao\"\n",
    "\n",
    "print(paste(a,b,c))\n",
    "\n",
    "print(paste(a,b,c, sep = \"-\"))\n",
    "\n",
    "print(paste(letters[1:6],1:6, sep = \"\", collapse = \"=\"))\n",
    "\n",
    "paste(letters[1:6],1:6, collapse = \".\")"
   ]
  },
  {
   "cell_type": "markdown",
   "metadata": {},
   "source": [
    "##### Question I:  <u>What do the arguments ```sep``` and ```collapse``` achieve (test by making your own examples)?</u>\n",
    "\n",
    "_sep : delimiter, default is space  \n",
    "collapse : Two or more string objects are spliced ​​together according to the corresponding element relationship. After the strings are connected, use collapse to specify the connection of the connectors_"
   ]
  },
  {
   "cell_type": "markdown",
   "metadata": {},
   "source": [
    "### Exercise 8\n",
    "\n",
    "We will now play with a function and increase its capabilities. You might have to read a bit more about how function can be used in R\n",
    "\n",
    "The following function calculates the mean and standard deviation of a numeric vector.\n",
    "```\n",
    "MeanAndSd <- function (x) {\n",
    "  av <- mean(x)\n",
    "  sdev <- sd(x)\n",
    "  c(mean=av, sd=sdev)\n",
    "}\n",
    "```\n",
    "\n",
    "Modify the function so that:   \n",
    "(a) the default is to use ```rnorm()``` to generate 20 random numbers;  \n",
    "(b) if there are missing values, the mean and standard deviation are calculated for the remaining values.\n"
   ]
  },
  {
   "cell_type": "code",
   "execution_count": 12,
   "metadata": {},
   "outputs": [
    {
     "data": {
      "text/html": [
       "<style>\n",
       ".dl-inline {width: auto; margin:0; padding: 0}\n",
       ".dl-inline>dt, .dl-inline>dd {float: none; width: auto; display: inline-block}\n",
       ".dl-inline>dt::after {content: \":\\0020\"; padding-right: .5ex}\n",
       ".dl-inline>dt:not(:first-of-type) {padding-left: .5ex}\n",
       "</style><dl class=dl-inline><dt>mean</dt><dd>-0.435769136454174</dd><dt>sd</dt><dd>1.04904717699658</dd></dl>\n"
      ],
      "text/latex": [
       "\\begin{description*}\n",
       "\\item[mean] -0.435769136454174\n",
       "\\item[sd] 1.04904717699658\n",
       "\\end{description*}\n"
      ],
      "text/markdown": [
       "mean\n",
       ":   -0.435769136454174sd\n",
       ":   1.04904717699658\n",
       "\n"
      ],
      "text/plain": [
       "      mean         sd \n",
       "-0.4357691  1.0490472 "
      ]
     },
     "metadata": {},
     "output_type": "display_data"
    },
    {
     "data": {
      "text/html": [
       "<style>\n",
       ".dl-inline {width: auto; margin:0; padding: 0}\n",
       ".dl-inline>dt, .dl-inline>dd {float: none; width: auto; display: inline-block}\n",
       ".dl-inline>dt::after {content: \":\\0020\"; padding-right: .5ex}\n",
       ".dl-inline>dt:not(:first-of-type) {padding-left: .5ex}\n",
       "</style><dl class=dl-inline><dt>mean</dt><dd>-0.103822412406459</dd><dt>sd</dt><dd>1.03232159810092</dd></dl>\n"
      ],
      "text/latex": [
       "\\begin{description*}\n",
       "\\item[mean] -0.103822412406459\n",
       "\\item[sd] 1.03232159810092\n",
       "\\end{description*}\n"
      ],
      "text/markdown": [
       "mean\n",
       ":   -0.103822412406459sd\n",
       ":   1.03232159810092\n",
       "\n"
      ],
      "text/plain": [
       "      mean         sd \n",
       "-0.1038224  1.0323216 "
      ]
     },
     "metadata": {},
     "output_type": "display_data"
    },
    {
     "name": "stdout",
     "output_type": "stream",
     "text": [
      "\n",
      "mean> x <- c(0:10, 50)\n",
      "\n",
      "mean> xm <- mean(x)\n",
      "\n",
      "mean> c(xm, mean(x, trim = 0.10))\n",
      "[1] 8.75 5.50\n"
     ]
    }
   ],
   "source": [
    "# example for using 100 random numbers and calculate mean for the remaining values\n",
    "MeanAndSd <- function (x=rnorm(20), narm=T) {\n",
    "  av <- mean(x,na.rm=narm)\n",
    "  sdev <- sd(x,na.rm=narm)\n",
    "  c(mean=av, sd=sdev)\n",
    "}\n",
    "\n",
    "sample <- c(rnorm(30),NA,rnorm(30))\n",
    "\n",
    "MeanAndSd()\n",
    "MeanAndSd(sample)\n",
    "\n",
    "example(mean)"
   ]
  },
  {
   "cell_type": "markdown",
   "metadata": {},
   "source": [
    "##### Question I:  <u>Which would be the expected values for mean and standard deviation?</u>\n",
    "\n",
    "_mean=0,  sd=1_"
   ]
  }
 ],
 "metadata": {
  "kernelspec": {
   "display_name": "R",
   "language": "R",
   "name": "ir"
  },
  "language_info": {
   "codemirror_mode": "r",
   "file_extension": ".r",
   "mimetype": "text/x-r-source",
   "name": "R",
   "pygments_lexer": "r",
   "version": "4.1.2"
  }
 },
 "nbformat": 4,
 "nbformat_minor": 2
}
