{
 "cells": [
  {
   "cell_type": "markdown",
   "metadata": {},
   "source": [
    "# Multi-variate analysis\n",
    "\n",
    "In this notebook, we will apply principal component analysis and compare different types of  cluster analysis\n"
   ]
  },
  {
   "cell_type": "markdown",
   "metadata": {},
   "source": [
    "## Installation of libraries and necessary software\n",
    "\n",
    "Copy the files  _mmc5_vclust_in.csv_ , _MetaboIonsNormed.csv_ and _FcmClustPEst.R_ into the folder that contains this jupyter notebook or upload them to http://localhost:8888/tree\n",
    "\n",
    "Install the necessary libraries (only needed once) by executing (shift-enter) the following cell:\n"
   ]
  },
  {
   "cell_type": "code",
   "execution_count": null,
   "metadata": {},
   "outputs": [],
   "source": [
    "install.packages(\"DAAG\", repos='http://cran.us.r-project.org')\n",
    "install.packages(\"MASS\", repos='http://cran.us.r-project.org')\n",
    "if (!requireNamespace(\"BiocManager\", quietly = TRUE))\n",
    "    install.packages(\"BiocManager\", repos='http://cran.us.r-project.org')\n",
    "BiocManager::install(\"Biobase\")\n",
    "BiocManager::install(\"Mfuzz\")\n",
    "install.packages(\"e1071\", repos='http://cran.us.r-project.org')\n",
    "install.packages(\"matrixStats\", repos='http://cran.us.r-project.org')"
   ]
  },
  {
   "cell_type": "markdown",
   "metadata": {},
   "source": [
    "## Loading data and libraries\n",
    "This requires that the installation above has been finished without error"
   ]
  },
  {
   "cell_type": "code",
   "execution_count": null,
   "metadata": {},
   "outputs": [],
   "source": [
    "library(DAAG)\n",
    "library(MASS)\n",
    "library(Biobase)\n",
    "library(e1071)\n",
    "library(matrixStats)\n",
    "\n",
    "# load data file (you need to place the file into the same folder)\n",
    "ExampleData <- read.csv(\"ExampleFile.csv\")\n",
    "MetabolomicsData <- read.csv(\"MetaboIonsNormed.csv\")\n",
    "source(\"FcmClustPEst.R\")\n"
   ]
  },
  {
   "cell_type": "markdown",
   "metadata": {},
   "source": [
    "### Exercise 1\n",
    "We will use dimensionality reduction to simplify a given data set. For a more extensive description of PCA in R, see e.g. https://www.datacamp.com/community/tutorials/pca-analysis-r\n",
    "\n",
    "Carry out principal component analysis for the ```possum``` data. Rows with missing values need to be removed before. Plot the scores of the PCA with different colors for the locations where the possums were trapped  (defined by ```site```). \n"
   ]
  },
  {
   "cell_type": "code",
   "execution_count": null,
   "metadata": {},
   "outputs": [],
   "source": [
    "data(possum)\n",
    "A <- possum[,5:ncol(possum)]\n",
    "## How many rows without missing values\n",
    "\n",
    "\n",
    "## data.frame without missing values\n",
    "\n",
    "## PCA ...\n",
    "\n"
   ]
  },
  {
   "cell_type": "markdown",
   "metadata": {},
   "source": [
    "##### Question I:  <u>How many percent of the variance are already described by principal component 1?</u>\n",
    "\n",
    "_Answer_\n",
    "\n",
    "##### Question II:  <u>Which are the most discriminating traits?</u>\n",
    "\n",
    "_Answer_\n",
    "\n",
    "##### Question III:  <u>Which sites (provide numbers) can be separated in the scoring plot of the PCA?</u>\n",
    "\n",
    "_Answer_\n",
    "\n"
   ]
  },
  {
   "cell_type": "markdown",
   "metadata": {},
   "source": [
    "### Exercise 2\n",
    "\n",
    "We will now compare different types of cluster analyses, applied to a proteomics data set (phosphorylated peptides) and a transcriptomics data set.\n",
    "\n",
    "Carry out hierarchical clustering, k-means and fuzzy c-means on the table from the file \"mmc5_vclust_in.csv\" and the ```geneData``` data in R (use a cluster number of 10 for all)\n",
    "\n"
   ]
  },
  {
   "cell_type": "code",
   "execution_count": null,
   "metadata": {},
   "outputs": [],
   "source": [
    "data(\"geneData\")\n",
    "\n",
    "protData <- as.matrix(read.csv(\"mmc5_vclust_in.csv\", row.names=1))\n",
    "\n",
    "# heatmap here:\n",
    "\n",
    "## example code for the geneData set\n",
    "# For the visualization copy the code from the script of the lecture\n",
    "scaled_geneData <- t(scale(t(geneData))) # this scales each row to have mean 0 and s.d. 1\n",
    "nclust <- 10\n",
    "kmean.out <- kmeans(scaled_geneData,nclust)\n",
    "cm.out <- cmeans(scaled_geneData, nclust, m=1.1)\n",
    "par(mfrow=c(3,4))\n",
    "for (c in 1:nclust) {\n",
    "  # plot centroid\n",
    "  plot(kmean.out$centers[c,], type=\"l\", lwd=2, col=2, ylim=c(-4,4))\n",
    "  clustc <- scaled_geneData[kmean.out$cluster==c,]\n",
    "  # plot genes\n",
    "  apply(clustc, 1, lines, , col=\"#00000033\")\n",
    "}\n",
    "par(mfrow=c(1,1))\n",
    "\n",
    "\n",
    "## fuzzy c-means clustering\n",
    "#cm.out$cluster\n",
    "par(mfrow=c(3,4))\n",
    "for (c in 1:nclust) {\n",
    "  plot(cm.out$centers[c,], type=\"l\", lwd=2, col=2, ylim=c(-4,4), xlab=\"Condition\", ylab=\"Expression pattern\")\n",
    "  # get members of cluster c\n",
    "  c_indices <- cm.out$cluster==c\n",
    "  if (sum(c_indices)>1) {\n",
    "   #  print(sum(c_indices))\n",
    "   clustc <- scaled_geneData[c_indices,]\n",
    "   # get membership values, multiply by 100 and round -> number between 0..100\n",
    "   clustmem <- round(cm.out$membership[c_indices,c]*100)\n",
    "   # color for each of 100 levels\n",
    "   colors <- rainbow(100)\n",
    "   for (m in 1:nrow(clustc)) {\n",
    "     lines(clustc[m,], col=colors[clustmem[m]])\n",
    "   }\n",
    "  }\n",
    "}\n",
    "par(mfrow=c(1,1))\n",
    "\n",
    "\n",
    "\n",
    "\n",
    "\n",
    "\n"
   ]
  },
  {
   "cell_type": "markdown",
   "metadata": {},
   "source": [
    "##### Question I:  <u>Read the help describing ```geneData```. What does this dataset contain?</u>\n",
    "\n",
    "_Answer_\n",
    "\n",
    "##### Question II:  <u>Why should fuzzy c-means be superior to k-means?</u>\n",
    "\n",
    "_Answer_\n",
    "\n",
    "##### Question III:  <u>How many parameters are required for fuzzy c-means? How are they called?</u>\n",
    "\n",
    "_Answer_\n",
    "\n",
    "##### Question IV:  <u>Which difference do you see between all 3 clustering methods?</u>\n",
    "\n",
    "_Answer_\n",
    "\n",
    "##### Question V:  <u>What is a membership value?</u>\n",
    "\n",
    "_Answer_\n",
    "\n",
    "##### Question VI:  <u>Do you see any specific pattern in the proteomics data? What is the reason to see this behavior?</u>\n",
    "\n",
    "_Answer_\n",
    "\n",
    "\n"
   ]
  },
  {
   "cell_type": "markdown",
   "metadata": {},
   "source": [
    "### Exercise 3\n",
    "\n",
    "\n",
    "Extract the columns corresponding to the first replicate of _protData_. Normalize the data to the median and again apply the cluster analysis (all from last exercise) on the resulting four-dimensional data set. \n",
    "\n",
    "\n"
   ]
  },
  {
   "cell_type": "code",
   "execution_count": null,
   "metadata": {},
   "outputs": [],
   "source": [
    "# Show first lines of example file\n",
    "head(ExampleData)\n",
    "\n",
    "colnames(ExampleData)\n",
    "ExampleDataLog <- as.matrix(log2(ExampleData[,19:22]))\n",
    "\n",
    "# Normalization by median\n",
    "NormalizedData <- t(t(ExampleDataLog) - colMedians(ExampleDataLog,na.rm=T))\n",
    "\n",
    "# remove rows with missing values for kmeans and cmeans\n",
    "NormalizedRedData <- NormalizedData[complete.cases(NormalizedData),]\n",
    "\n",
    "# heatmap here\n",
    "\n",
    "\n",
    "# kmeans + cmeans (10 clusters)\n",
    "StandardizedData <- t(scale(t(NormalizedRedData)))\n",
    "\n"
   ]
  },
  {
   "cell_type": "markdown",
   "metadata": {},
   "source": [
    "##### Question I:  <u>What does the function colMedians give?</u>\n",
    "\n",
    "_Answer_\n",
    "\n",
    "##### Question II:  <u>What do the row names of protData stand for?</u>\n",
    "\n",
    "_Answer_\n",
    "\n",
    "##### Question III:  <u>Is this data log-transformed? If yes, what tell us that it is already transformed?</u>\n",
    "\n",
    "_Answer_\n",
    "\n",
    "##### Question IV:  <u>How do we check whether the median normalization was correctly executed?</u>\n",
    "\n",
    "_Answer_\n",
    "\n",
    "##### Question V:  <u>Which samples are most similar and how does this show?</u>\n",
    "\n",
    "_Answer_\n",
    "\n",
    "##### Question VI:  <u>Why do we have to _scale_ the data before using k-means and fuzzy c-means?</u>\n",
    "\n",
    "_Answer_\n",
    "\n"
   ]
  },
  {
   "cell_type": "markdown",
   "metadata": {},
   "source": [
    "### Exercise 4\n",
    "We will now look into the consequences of using different parameters of fuzzy c-means clustering. The fuzzifier will be automatically set to an optimal value which is much higher than previously used $m=1.1$.\n",
    "\n",
    "Carry out fuzzy c-means using the parameter estimation from the lecture on ```StandardizedData```. Compare the results to the ones in the exercise above."
   ]
  },
  {
   "cell_type": "code",
   "execution_count": null,
   "metadata": {},
   "outputs": [],
   "source": [
    "PExpr <- new(\"ExpressionSet\",expr=as.matrix(StandardizedData))\n",
    "parameters <- FcmClustPEst(PExpr, maxc = 25)\n",
    "\n",
    "# fuzzy c-means clustering with these here:\n"
   ]
  },
  {
   "cell_type": "markdown",
   "metadata": {},
   "source": [
    "##### Question I:  <u>Do the validation indices agree on the number of clusters?</u>\n",
    "\n",
    "_Answer_\n",
    "\n",
    "##### Question II:  <u>What are the main differences of the results between running fuzzy c-means clustering in the exercise above and here?</u>\n",
    "\n",
    "_Answer_\n",
    "\n",
    "##### Question III:  <u>What is the total number of clustered proteins when not considering proteins with max. membership value $>$ 0.5?</u>\n",
    "\n",
    "_Answer_\n",
    "\n"
   ]
  },
  {
   "cell_type": "code",
   "execution_count": null,
   "metadata": {},
   "outputs": [],
   "source": []
  },
  {
   "cell_type": "markdown",
   "metadata": {},
   "source": [
    "### Exercise 5\n",
    "We now will look into a metabolomics data set with strong temporal behavior and use a version of fuzzy c-means clustering that includes the variance of the replicates which is usually discarded\n",
    "\n",
    "Carry out hierarchical clustering on metabolomics data (paper: https://www.ncbi.nlm.nih.gov/pubmed/26373870) and test different distance measures. For that, check the help pages of ```heatmap``` and ```dist```.\n",
    "\n",
    "Load the file into VSClust (http://computproteomics.bmb.sdu.dk/Apps/VSClust) and carry out the analysis there (the app can become irreponsive while multiple users apply the analysis). Use the PCA plot to see whether you read the file with the correctly set number of replicates and conditions. Estimate the parameter values and then apply the variance-based clustering."
   ]
  },
  {
   "cell_type": "code",
   "execution_count": null,
   "metadata": {},
   "outputs": [],
   "source": [
    "# create the heatmap  here:\n",
    "head(MetabolomicsData)\n",
    "rownames(MetabolomicsData) <- MetabolomicsData$X\n",
    "MetabolomicsDataM <- as.matrix(MetabolomicsData[,2:ncol(MetabolomicsData)])\n",
    "heatmap(MetabolomicsDataM,cexRow = 0.2, cexCol= 0.5, distfun = function(x) dist(x,method = 'euclidean'))"
   ]
  },
  {
   "cell_type": "markdown",
   "metadata": {},
   "source": [
    "##### Question I:  <u>What are the main differences between heatmap and variance-sensitive clustering?</u>\n",
    "\n",
    "_Answer_\n",
    "\n",
    "##### Question II:  <u>Do you recognize the same groups?</u>\n",
    "\n",
    "_Answer_\n",
    "\n",
    "##### Question III:  <u>Why can the calculation of the heatmap take long?</u>\n",
    "\n",
    "_Answer_\n",
    "\n",
    "##### Question IV:  <u>Do the replicates of all 12 time points cluster together? If not, when do they fail to group and why do think this happens?</u>\n",
    "\n",
    "_Answer_\n",
    "\n",
    "##### Question V:  <u>Does this improve when using another distance measure?</u>\n",
    "\n",
    "_Answer_\n",
    "\n"
   ]
  },
  {
   "cell_type": "code",
   "execution_count": null,
   "metadata": {},
   "outputs": [],
   "source": [
    "?dist\n"
   ]
  },
  {
   "cell_type": "code",
   "execution_count": null,
   "metadata": {},
   "outputs": [],
   "source": []
  }
 ],
 "metadata": {
  "kernelspec": {
   "display_name": "R",
   "language": "R",
   "name": "ir"
  },
  "language_info": {
   "codemirror_mode": "r",
   "file_extension": ".r",
   "mimetype": "text/x-r-source",
   "name": "R",
   "pygments_lexer": "r",
   "version": "3.6.2"
  }
 },
 "nbformat": 4,
 "nbformat_minor": 2
}
