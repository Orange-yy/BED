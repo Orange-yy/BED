{
 "cells": [
  {
   "cell_type": "markdown",
   "metadata": {},
   "source": [
    "# Statistical testing in R\n",
    "\n",
    "Here, we carry out simple statistical tests including t-test and ANOVA\n"
   ]
  },
  {
   "cell_type": "markdown",
   "metadata": {},
   "source": [
    "## Installation of libraries and necessary software\n",
    "\n",
    "Install the necessary libraries (only needed once) by executing (shift-enter) the following cell:\n"
   ]
  },
  {
   "cell_type": "code",
   "execution_count": null,
   "metadata": {},
   "outputs": [],
   "source": [
    "install.packages(\"MASS\", repos='http://cran.us.r-project.org')\n",
    "install.packages(\"perm\", repos='http://cran.us.r-project.org')\n",
    "if (!requireNamespace(\"BiocManager\", quietly = TRUE))\n",
    "    install.packages(\"BiocManager\")\n",
    "BiocManager::install(\"qvalue\")\n"
   ]
  },
  {
   "cell_type": "markdown",
   "metadata": {},
   "source": [
    "## Loading data and libraries\n",
    "This requires that the installation above have been finished without error"
   ]
  },
  {
   "cell_type": "code",
   "execution_count": null,
   "metadata": {},
   "outputs": [],
   "source": [
    "library(\"MASS\")\n",
    "library(\"perm\")\n",
    "library(\"qvalue\")"
   ]
  },
  {
   "cell_type": "markdown",
   "metadata": {},
   "source": [
    "### Exercise 1\n",
    "\n",
    "The t-test is based on a null distribution that is described by the t-distribution. We will see how the sample size (here described by the degrees of freedom) changes the t-value threshold for obtaining a significantly changing feature.\n",
    "\n",
    "Draw figures that show, for degrees of freedom between 1 and 100, the 5\\% critical value of the t-statistic (that is the value above and below which 5\\% of the density distribution are located, given by```qt(0.975,df=...)```). \n",
    "\n",
    "Plot the distribution on absolute and double-logarithmic scale. \n"
   ]
  },
  {
   "cell_type": "code",
   "execution_count": null,
   "metadata": {},
   "outputs": [],
   "source": [
    "# add your code here:"
   ]
  },
  {
   "cell_type": "markdown",
   "metadata": {},
   "source": [
    "#### Add your answers here\n",
    "(double-click here to edit the cell)\n",
    "\n",
    "##### Question I:  <u>Which figure provides better visual information about the critical values?</u>\n",
    "\n",
    "_Answer_\n",
    "\n",
    "##### Question I:  <u>What does the decrease mean when carrying out statistical tests?</u>\n",
    "\n",
    "_Answer_\n"
   ]
  },
  {
   "cell_type": "markdown",
   "metadata": {},
   "source": [
    "### Exercise 2\n",
    "We will carry out ANOVA on artificial data consisting of the 3 categories A, B and C\n",
    "\n",
    "Take a data frame with quantitative values for three groups\n",
    "\n",
    "```stat.dat <- data.frame(x=rep(c(\"A\",\"B\",\"C\"),each=10), \n",
    "                        y=c(rnorm(10), rnorm(10)+0.5, rnorm(10)-1))\n",
    "```\n",
    "\n",
    "a) Do an ANOVA to check whether B and C are significantly different from A\n",
    "\n",
    "b) Do an ANOVA to check whether A, B and C are significantly different from 0\n",
    "\n",
    "c) Do an ANOVA to check whether A and C are significantly different from B (you'll have to manually reorder the columns of ```stat.dat```)\n",
    "\n",
    "d) Calculate a t-test between C and A and compare the result to a)\n",
    "\n",
    "e) Redo ANOVA on the data set containing only A and C and compare again\n"
   ]
  },
  {
   "cell_type": "code",
   "execution_count": null,
   "metadata": {},
   "outputs": [],
   "source": [
    "num <- 10\n",
    "stat.dat <- data.frame(x=rep(c(\"A\",\"B\",\"C\"),each=num), \n",
    "                       y=c(rnorm(num), rnorm(num)+0.5, rnorm(num)-1))\n",
    "# a)\n",
    "summary(lm(y~x, data=stat.dat))\n",
    "# b)\n",
    "# ..."
   ]
  },
  {
   "cell_type": "markdown",
   "metadata": {},
   "source": [
    "##### Question II:  <u>Why do you expect the sample groups A, B and C to be different?</u>\n",
    "\n",
    "_Answer_\n",
    "\n",
    "##### Question II:  <u>What do the coefficients mean in a) and b)?</u>\n",
    "\n",
    "_Answer_\n",
    "\n",
    "\n",
    "##### Question III:  <u>Could one use t-tests to show the cases in b)?</u>\n",
    "\n",
    "_Answer_\n",
    "\n",
    "##### Question IV:  <u>What does removing a sample group mean for the ANOVA test?</u>\n",
    "\n",
    "_Answer_\n"
   ]
  },
  {
   "cell_type": "markdown",
   "metadata": {},
   "source": [
    "### Exercise 3\n",
    "a) Redo Exercise 2 using a sample size of 5 instead of 10.\n",
    "\n",
    "b) Change the normal distribution to an exponential one and check whether you would accept any of the results as significantly different.\n",
    "\n"
   ]
  },
  {
   "cell_type": "code",
   "execution_count": null,
   "metadata": {},
   "outputs": [],
   "source": [
    "# add you code here:"
   ]
  },
  {
   "cell_type": "markdown",
   "metadata": {},
   "source": [
    "##### Question I:  <u>What does improve when using a sample size of 10? How does this relate to Exercise 1?</u>\n",
    "\n",
    "_Answer_\n",
    "\n",
    "##### Question II:  <u>Why shouldn't be apply ANOVA to exponentially distributed data?</u>\n",
    "\n",
    "_Answer_\n"
   ]
  },
  {
   "cell_type": "markdown",
   "metadata": {},
   "source": [
    "### Exercise 4\n",
    "We will now compare the results from three different statistical tests applied to the same data.\n",
    "\n",
    "a) Try to understand the function ```TestCompare()``` that calculates the p-values of three statistical tests: two-sample t-test, the Wilcoxon rank test and a permutation test. \n",
    "\n",
    "b) Take the data ```PlantGrowth``` and reduce it to conditions ```ctrl``` and ```trt2```. \n",
    "Use ```TestCompare``` on the data and compare the p-values from the different tests.\n",
    "\n",
    "c) Apply the function on normally distributed artificial data having the same number of values, the same mean and the same standard deviation as ```ctrl``` and ```trt2```. Repeat this 1000 times.\n",
    "\n",
    "d) Check the distribution of the 1000 p-values per test and compare the p-values to the one obtained for the ```PlantGrowth``` data.\n",
    "\n"
   ]
  },
  {
   "cell_type": "code",
   "execution_count": null,
   "metadata": {},
   "outputs": [],
   "source": [
    "data(\"PlantGrowth\")\n",
    "library(perm)\n",
    "\n",
    "# a)\n",
    "mydat <- PlantGrowth[PlantGrowth$group==\"ctrl\" | PlantGrowth$group==\"trt2\",]\n",
    "head(mydat)\n",
    "TestCompare <- function(sample1, sample2){\n",
    "  pval1 <- t.test(sample1,sample2)$p.value\n",
    "  pval2 <- wilcox.test(sample1,sample2)$p.value\n",
    "  pval3 <- permTS(sample1,sample2)$p.value\n",
    "  c(pval1,pval2,pval3)\n",
    "}\n",
    "\n",
    "# b)\n",
    "mypvals <- # continue here\n",
    "\n",
    "# c)\n",
    "m1 <- mean(mydat[mydat$group==\"ctrl\",1])\n",
    "m2 <- mean(mydat[mydat$group==\"trt2\",1])\n",
    "s1 <- sd(mydat[mydat$group==\"ctrl\",1])\n",
    "s2 <- sd(mydat[mydat$group==\"trt2\",1])\n",
    "n1 <- length(mydat[mydat$group==\"ctrl\",1])\n",
    "n2 <- length(mydat[mydat$group==\"trt2\",1])\n",
    "\n",
    "pvals <- matrix(NA,ncol=3,nrow=1000)\n",
    "for (i in 1:1000) {\n",
    "  # add the results from the corresponding tests here\n",
    "  pvals[i,] <- TestCompare(rnorm(n1,m1,s1), rnorm(n2,m2,s2))\n",
    "  \n",
    "}\n",
    "ttt <- TestCompare(mydat[mydat$group==\"ctrl\",1], mydat[mydat$group==\"trt2\",1])\n",
    "\n",
    "hist((pvals[,1]),100)\n",
    "abline(v=ttt[1])\n",
    "hist((pvals[,2]),100)\n",
    "abline(v=ttt[2])\n",
    "hist((pvals[,3]),100)\n",
    "abline(v=ttt[3])\n",
    "\n",
    "\n",
    "\n",
    "# d) \n",
    "# visualize and compare"
   ]
  },
  {
   "cell_type": "markdown",
   "metadata": {},
   "source": [
    "##### Question I:  <u>Any idea why the t-test gives the lowest p-value?</u>\n",
    "\n",
    "_Answer_\n",
    "\n",
    "##### Question II:  <u>Which test gives the lowest number of p-values from the artificial data which are larger than the p-value calculated for the PlantGrowth data?</u>\n",
    "\n",
    "_Answer_\n"
   ]
  },
  {
   "cell_type": "markdown",
   "metadata": {},
   "source": [
    "### Exercise 5\n",
    "Redo the first part of Exercise 4 changing to paired tests. \n",
    "\n"
   ]
  },
  {
   "cell_type": "code",
   "execution_count": null,
   "metadata": {},
   "outputs": [],
   "source": [
    "# add your code here"
   ]
  },
  {
   "cell_type": "markdown",
   "metadata": {},
   "source": [
    "##### Question I:  <u>When should you use a paired test? Give an example.</u>\n",
    "\n",
    "_Answer_\n",
    "\n",
    "##### Question II:  <u>Which difference in the results do you observe?</u>\n",
    "\n",
    "_Answer_\n",
    "\n"
   ]
  },
  {
   "cell_type": "markdown",
   "metadata": {},
   "source": [
    "### Exercise 6\n",
    "_Correction for multiple testing:_\n",
    "This exercise will give you more insight into the different methods for correction of multiple testing and how they correct the p-values.\n",
    "\n",
    "a) Write a function to calculate the p-value (t-test) between normally distributed (s.d. 1) artificial sets mutually shifted by $S$ (set default to 0.5). \n",
    "\n",
    "b) Write a for loop to get 1000 p-values from the same comparison and plot them on a histogram. Count the number of p-values below 0.05.\n",
    "\n",
    "c) Correct for multiple testing using Bonferroni, Benjamin-Hochberg (```p.adjust```)and ```qvalue()``` (```qvalues``` package). Count the number of corrected p-values below 0.05.\n",
    "\n",
    "d) Repeat the same for a shift of $S=1$ and $S=0$. How many corrected p-values below 0.05 would one optimally get for $S=0$?\n",
    "\n"
   ]
  },
  {
   "cell_type": "code",
   "execution_count": null,
   "metadata": {},
   "outputs": [],
   "source": [
    "library(qvalue)\n",
    "# a)\n",
    "GetPval <- function(shift=0.5, num=10) {\n",
    "  t.test(rnorm(num),rnorm(num,mean=shift))$p.value\n",
    "}\n",
    "\n",
    "GetPval(2, 10)\n",
    "\n",
    "\n",
    "# b) \n",
    "pvec <- vector(,1000)\n",
    "for (i in 1:1000) {\n",
    "  pvec[i] <- GetPval(shift=0.5)\n",
    "}\n",
    "\n",
    "\n",
    "# c)\n",
    "# helping out with this one: qvalue(yourvalues)$qvalues\n",
    "\n",
    "# d) \n",
    "\n"
   ]
  },
  {
   "cell_type": "markdown",
   "metadata": {},
   "source": [
    "##### Question I:  <u>What are the arguments ```shift``` and ```num``` in the function ```GetPval```? What happens when you call the function without arguments (```GetPval()```)</u>\n",
    "\n",
    "_Answer_\n",
    "\n",
    "##### Question II:  <u>What is the expected percentage of p-values below 0.05 for ```shift=0```?</u>\n",
    "\n",
    "_Answer_\n",
    "\n",
    "##### Question III:  <u>Why is the number of corrected p-values below 0.05 smaller after correction? Order the corrections according to their number of p-values smaller than 0.05.</u>\n",
    "\n",
    "_Answer_\n",
    "\n"
   ]
  },
  {
   "cell_type": "markdown",
   "metadata": {},
   "source": [
    "\n"
   ]
  }
 ],
 "metadata": {
  "kernelspec": {
   "display_name": "R",
   "language": "R",
   "name": "ir"
  },
  "language_info": {
   "codemirror_mode": "r",
   "file_extension": ".r",
   "mimetype": "text/x-r-source",
   "name": "R",
   "pygments_lexer": "r",
   "version": "3.6.2"
  }
 },
 "nbformat": 4,
 "nbformat_minor": 2
}
