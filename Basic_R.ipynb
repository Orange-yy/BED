{
 "cells": [
  {
   "cell_type": "markdown",
   "metadata": {},
   "source": [
    "# Introduction into R coding\n",
    " \n",
    "\n",
    "This notebook is to get used to the R environment and manage to carry out basic tasks such as reading files and simple plots.\n",
    "\n"
   ]
  },
  {
   "cell_type": "markdown",
   "metadata": {},
   "source": [
    "## Installation of libraries and necessary software\n",
    "Install the necessary libraries (only needed once) by executing (shift-enter) the following cell:\n"
   ]
  },
  {
   "cell_type": "code",
   "execution_count": null,
   "metadata": {},
   "outputs": [],
   "source": [
    "install.packages(\"MASS\", repos='http://cran.us.r-project.org')\n"
   ]
  },
  {
   "cell_type": "markdown",
   "metadata": {},
   "source": [
    "## Loading data and libraries\n",
    "This requires that the installation above have been finished without error"
   ]
  },
  {
   "cell_type": "code",
   "execution_count": null,
   "metadata": {},
   "outputs": [],
   "source": [
    "library(\"MASS\")\n",
    "\n"
   ]
  },
  {
   "cell_type": "markdown",
   "metadata": {},
   "source": [
    "### Exercise 1\n",
    "Answer the following questions about the R framework\n",
    "\n"
   ]
  },
  {
   "cell_type": "markdown",
   "metadata": {},
   "source": [
    "#### Add your answers here\n",
    "(double-click here to edit the cell)\n",
    "\n",
    "##### Question I:  <u>What is the difference between the commands ```install.packages``` and ```library```?</u>\n",
    "\n",
    "_Answer_\n",
    "\n",
    "##### Question II:  <u>What is an object in R and what can it contain?</u>\n",
    "\n",
    "_Answer_\n",
    "\n",
    "##### Question III: <u>A ```data.frame``` is one of the most important R objects. Explain how rows, columns, rownames and colnames corresponds to what you see on an Excel sheet:</u>\n",
    "\n",
    "_Answer_\n",
    "\n",
    "##### Question II:  <u>What is the difference between an object and a function?</u>\n",
    "\n",
    "_Answer_\n",
    "\n"
   ]
  },
  {
   "cell_type": "markdown",
   "metadata": {},
   "source": [
    "### Exercise 2\n",
    "\n",
    "Data can often have missing values corresponding to cases where the experiment did not deliver a measurement of e.g. a gene in a specific experimental sample.\n",
    "We will count the number of missing values to estimate how well an experiment went.\n",
    "\n",
    "Read the data frame ```Pima.tr2``` from the MASS library. \n",
    "Calculate the dimensions of the data frame by executing the following cell. \n",
    "Count the number of missing values for each column. For that add R code that contains the functions ```is.na()``` and ```colSums()```. \n",
    "\n",
    "Use ```table()``` on the output of ```rowSums()``` to count how many rows do have how many missing values. \n"
   ]
  },
  {
   "cell_type": "code",
   "execution_count": null,
   "metadata": {},
   "outputs": [],
   "source": [
    "?colSums"
   ]
  },
  {
   "cell_type": "code",
   "execution_count": null,
   "metadata": {},
   "outputs": [],
   "source": [
    "data(Pima.tr2)\n",
    "# the data.frame is in the Pima.tr2 object\n",
    "dim(Pima.tr2)\n",
    "# add your code here:\n"
   ]
  },
  {
   "cell_type": "markdown",
   "metadata": {},
   "source": [
    "### Exercise 3\n",
    "\n",
    "We will now use standard statistical descriptors on different data sets. Visual aids like histograms help estimating whether these descriptors correctly describe the data.\n",
    "\n",
    "Use the functions ```mean()``` and```range()``` to find the mean and range of.\n",
    "- the numbers 1, 2, ..., 21\n",
    "- the sample of 50 random values generated from a normal distribution with mean 0 and variance 1 using ```rnorm(50)```. Repeat several times with new set of 50 random numbers to get a feeling about random numbers.\n",
    "- the columns ```height``` and ```weight``` in the data frame \\```women``` \n",
    "\n",
    "Repeat all above, but now with the functions ```median()```, ```sum()``` and ```sd()```.\n",
    "\n"
   ]
  },
  {
   "cell_type": "code",
   "execution_count": null,
   "metadata": {},
   "outputs": [],
   "source": [
    "x <- 1:21\n",
    "\n",
    "y <- rnorm(50)\n",
    "\n",
    "z1 <- women$height\n",
    "z2 <- women$weight\n",
    "hist(women$weight)\n",
    "mean(women$weight)"
   ]
  },
  {
   "cell_type": "markdown",
   "metadata": {},
   "source": [
    "##### Question I:  <u>Which are good descriptors for the different samples?</u>\n",
    "\n",
    "_Answer_\n",
    "\n",
    "##### Question II:  <u>What is the most accurate way to describe normally distributed data?</u>\n",
    "\n",
    "_Answer_"
   ]
  },
  {
   "cell_type": "markdown",
   "metadata": {},
   "source": [
    "### Exercise 4\n",
    "Now we will look into data that cannot be accurately described by standard visualization or descriptors. However, data transformation can often be used to achieve a more proper summarization and visualization.\n",
    "\n",
    "Get dataset ```mammals``` that is part of package MASS. Plot ```brain``` versus ```body```. Additionally, do the same plot accessing the columns directly. Try to visualize the data on logarithmic scale applying the ```log``` argument in the ```plot``` function. \n"
   ]
  },
  {
   "cell_type": "code",
   "execution_count": null,
   "metadata": {},
   "outputs": [],
   "source": [
    "library(MASS)\n",
    "data(\"mammals\")\n",
    "x <- mammals$body\n",
    "y <- mammals$brain\n",
    "plot(x,y)"
   ]
  },
  {
   "cell_type": "markdown",
   "metadata": {},
   "source": [
    "##### Question I:  <u>Why is the logarithmic scale more suitable?</u>\n",
    "\n",
    "_Answer_\n",
    "\n",
    "##### Question II:  <u>What is the relation between x and y when they show a linear relationship on double-logarithmic scale (both axis on logarithmic scale)?</u>\n",
    "\n",
    "_Answer_"
   ]
  },
  {
   "cell_type": "markdown",
   "metadata": {},
   "source": [
    "### Exercise 5\n",
    "\n",
    "Now a more biological example with different categories. We will inspect the data for expected properties.\n",
    "\n",
    "Get data set ```genotype``` from library(MASS) and read about it (```?genotype```). Sort the data by column ```Wt``` with the ```order``` function. Sort the data also by column ```Mother```. Then sort by both ```Wt``` and then ```Mother```.\n"
   ]
  },
  {
   "cell_type": "code",
   "execution_count": null,
   "metadata": {},
   "outputs": [],
   "source": [
    "library(MASS)\n",
    "data(genotype)\n",
    "A <- genotype[order(genotype$Wt),]\n"
   ]
  },
  {
   "cell_type": "markdown",
   "metadata": {},
   "source": [
    "##### Question I:  <u>Do you see any relation between having a mother of the same genotype and the average weight gain?</u>\n",
    "\n",
    "_Answer_"
   ]
  },
  {
   "cell_type": "markdown",
   "metadata": {},
   "source": [
    "### Exercise 6\n",
    "\n",
    "One can solve the same tasks in multiple ways, such as using a for loop or a while loop.\n",
    "\n",
    "Look at the ```for``` loop below that prints each number of a vector on a separate line, with its square and cube alongside.\n",
    "\n",
    "Look up ```help(\"while\")```. Show how to use a ```while``` loop to achieve the same result.\n"
   ]
  },
  {
   "cell_type": "code",
   "execution_count": null,
   "metadata": {},
   "outputs": [],
   "source": [
    "vec <- 1:10\n",
    "for (i in vec) {\n",
    "  print(paste(i, i*i, i^3))\n",
    "}\n"
   ]
  },
  {
   "cell_type": "markdown",
   "metadata": {},
   "source": [
    "### Exercise 7\n",
    "\n",
    "The ```paste``` function is very useful to build strings, as well as merge and display different values.\n",
    "\n",
    "Carry out the commands below\n",
    "\n"
   ]
  },
  {
   "cell_type": "code",
   "execution_count": null,
   "metadata": {},
   "outputs": [],
   "source": [
    "paste(\"Leo\",\"the\",\"lion\")\n",
    "paste(\"a\",\"b\")\n",
    "paste(\"a\",\"b\", sep=\"\")\n",
    "paste(1:5)\n",
    "paste(1:5, collapse=\"\")\n"
   ]
  },
  {
   "cell_type": "markdown",
   "metadata": {},
   "source": [
    "##### Question I:  <u>What do the arguments ```sep``` and ```collapse``` achieve (test by making your own examples)?</u>\n",
    "\n",
    "_Answer_"
   ]
  },
  {
   "cell_type": "markdown",
   "metadata": {},
   "source": [
    "### Exercise 8\n",
    "\n",
    "We will now play with a function and increase its capabilities. You might have to read a bit more about how function can be used in R\n",
    "\n",
    "The following function calculates the mean and standard deviation of a numeric vector.\n",
    "```\n",
    "MeanAndSd <- function (x) {\n",
    "  av <- mean(x)\n",
    "  sdev <- sd(x)\n",
    "  c(mean=av, sd=sdev)\n",
    "}\n",
    "```\n",
    "\n",
    "Modify the function so that:   \n",
    "(a) the default is to use ```rnorm()``` to generate 20 random numbers;  \n",
    "(b) if there are missing values, the mean and standard deviation are calculated for the remaining values.\n"
   ]
  },
  {
   "cell_type": "code",
   "execution_count": null,
   "metadata": {},
   "outputs": [],
   "source": [
    "# example for using 100 random numbers and calculate mean for the remaining values\n",
    "MeanAndSd <- function (x=rnorm(100), narm=T) {\n",
    "  av <- mean(x,na.rm=narm)\n",
    "  sdev <- sd(x)\n",
    "  c(mean=av, sd=sdev)\n",
    "}\n",
    "\n",
    "sample <- c(rnorm(30),NA,rnorm(30))\n",
    "\n",
    "MeanAndSd()\n",
    "MeanAndSd(sample)\n",
    "?mean\n",
    "example(mean)"
   ]
  },
  {
   "cell_type": "markdown",
   "metadata": {},
   "source": [
    "##### Question I:  <u>Which would be the expected values for mean and standard deviation?</u>\n",
    "\n",
    "_Answer_"
   ]
  },
  {
   "cell_type": "code",
   "execution_count": null,
   "metadata": {},
   "outputs": [],
   "source": []
  }
 ],
 "metadata": {
  "kernelspec": {
   "display_name": "R",
   "language": "R",
   "name": "ir"
  },
  "language_info": {
   "codemirror_mode": "r",
   "file_extension": ".r",
   "mimetype": "text/x-r-source",
   "name": "R",
   "pygments_lexer": "r",
   "version": "3.6.2"
  }
 },
 "nbformat": 4,
 "nbformat_minor": 2
}
